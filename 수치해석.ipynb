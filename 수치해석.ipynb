{
  "nbformat": 4,
  "nbformat_minor": 0,
  "metadata": {
    "colab": {
      "provenance": [],
      "authorship_tag": "ABX9TyMmmFqh5QsFhcEIgMXTBmuk"
    },
    "kernelspec": {
      "name": "python3",
      "display_name": "Python 3"
    },
    "language_info": {
      "name": "python"
    }
  },
  "cells": [
    {
      "cell_type": "code",
      "source": [
        "'''\n",
        "수치해석 개요\n",
        "수치해석의 정의와 중요성\n",
        "수치해석의 응용 분야\n",
        "\n",
        "기초 수학 복습\n",
        "선형대수학\n",
        "미적분학\n",
        "\n",
        "오차 분석\n",
        "절대 오차와 상대 오차\n",
        "유효 숫자와 반올림 오차\n",
        "\n",
        "비선형 방정식의 해법\n",
        "이분법\n",
        "뉴턴-랩슨 방법\n",
        "고정점 반복법\n",
        "\n",
        "선형 방정식의 해법\n",
        "가우스 소거법\n",
        "LU 분해\n",
        "행렬의 조건수\n",
        "\n",
        "보간법과 곡선 맞춤\n",
        "다항식 보간법\n",
        "스플라인 보간법\n",
        "최소 제곱법\n",
        "\n",
        "수치적 미분과 적분\n",
        "수치적 미분\n",
        "수치적 적분 (사다리꼴 법, 심프슨 법)\n",
        "\n",
        "상미분 방정식의 수치해법\n",
        "오일러 방법\n",
        "룽게-쿠타 방법\n",
        "\n",
        "편미분 방정식의 수치해법\n",
        "유한 차분법\n",
        "유한 요소법\n",
        "\n",
        "실습 프로젝트\n",
        "실제 문제를 해결하는 프로젝트\n",
        "구글 코랩을 이용한 코드 작성 및 실행\n",
        "'''"
      ],
      "metadata": {
        "colab": {
          "base_uri": "https://localhost:8080/",
          "height": 108
        },
        "id": "Y8eEL7cbyOO5",
        "outputId": "62204b62-d5b2-4e47-a7e8-a753e12990e2"
      },
      "execution_count": null,
      "outputs": [
        {
          "output_type": "execute_result",
          "data": {
            "text/plain": [
              "'\\n수치해석 개요\\n수치해석의 정의와 중요성\\n수치해석의 응용 분야\\n\\n기초 수학 복습\\n선형대수학\\n미적분학\\n\\n오차 분석\\n절대 오차와 상대 오차\\n유효 숫자와 반올림 오차\\n\\n비선형 방정식의 해법\\n이분법\\n뉴턴-랩슨 방법\\n고정점 반복법\\n\\n선형 방정식의 해법\\n가우스 소거법\\nLU 분해\\n행렬의 조건수\\n\\n보간법과 곡선 맞춤\\n다항식 보간법\\n스플라인 보간법\\n최소 제곱법\\n\\n수치적 미분과 적분\\n수치적 미분\\n수치적 적분 (사다리꼴 법, 심프슨 법)\\n\\n상미분 방정식의 수치해법\\n오일러 방법\\n룽게-쿠타 방법\\n\\n편미분 방정식의 수치해법\\n유한 차분법\\n유한 요소법\\n\\n실습 프로젝트\\n실제 문제를 해결하는 프로젝트\\n구글 코랩을 이용한 코드 작성 및 실행\\n'"
            ],
            "application/vnd.google.colaboratory.intrinsic+json": {
              "type": "string"
            }
          },
          "metadata": {},
          "execution_count": 36
        }
      ]
    },
    {
      "cell_type": "code",
      "execution_count": null,
      "metadata": {
        "colab": {
          "base_uri": "https://localhost:8080/"
        },
        "id": "Gbfd5OjkwLMg",
        "outputId": "273c1905-9c00-4636-93c0-153590bd44f4"
      },
      "outputs": [
        {
          "output_type": "stream",
          "name": "stdout",
          "text": [
            "이진수: 0b101010\n",
            "8진수: 0o52\n",
            "16진수: 0x2a\n"
          ]
        }
      ],
      "source": [
        "# 이진수 및 데이터 표현\n",
        "\n",
        "# 이진수, 8진수, 16진수 변환 예제\n",
        "number = 42\n",
        "\n",
        "binary = bin(number)\n",
        "octal = oct(number)\n",
        "hexadecimal = hex(number)\n",
        "\n",
        "print(f\"이진수: {binary}\")\n",
        "print(f\"8진수: {octal}\")\n",
        "print(f\"16진수: {hexadecimal}\")\n"
      ]
    },
    {
      "cell_type": "code",
      "source": [
        "# 부동 소수점 표현\n",
        "\n",
        "# 부동 소수점 예제\n",
        "import struct\n",
        "\n",
        "def float_to_bin(num):\n",
        "    return format(struct.unpack('!I', struct.pack('!f', num))[0], '032b')\n",
        "\n",
        "float_num = 3.14\n",
        "binary_representation = float_to_bin(float_num)\n",
        "\n",
        "print(f\"부동 소수점 수 {float_num}의 이진 표현: {binary_representation}\")\n"
      ],
      "metadata": {
        "colab": {
          "base_uri": "https://localhost:8080/"
        },
        "id": "GF88rmFDxSp7",
        "outputId": "cc2365d2-bfc7-4d47-eb87-3b6ff0bbcc9e"
      },
      "execution_count": null,
      "outputs": [
        {
          "output_type": "stream",
          "name": "stdout",
          "text": [
            "부동 소수점 수 3.14의 이진 표현: 01000000010010001111010111000011\n"
          ]
        }
      ]
    },
    {
      "cell_type": "code",
      "source": [
        "'''\n",
        "컴퓨터에서 소수점 계산은 주로 부동소수점(floating-point) 표기법을 사용하여 이루어집니다.\n",
        "부동소수점은 실수를 표현할 때 소수점의 위치를 고정하지 않고, 가수(mantissa)와 지수(exponent)로 나누어 표현합니다.\n",
        "이 방식은 IEEE 754 표준을 따릅니다.\n",
        "\n",
        "부동소수점의 원리\n",
        "가수(Mantissa): 실수의 유효 숫자를 나타냅니다.\n",
        "지수(Exponent): 소수점의 위치를 나타냅니다.\n",
        "부호(Sign): 숫자가 양수인지 음수인지를 나타냅니다.\n",
        "예를 들어, 실수 263.3을 부동소수점으로 표현하면 다음과 같은 형태가 됩니다:\n",
        "\n",
        "부호: 0 (양수)\n",
        "지수: 8 (2^8)\n",
        "가수: 1.00000111010011001100110 (정규화된 형태)\n",
        "\n",
        "고정소수점과 부동소수점의 차이\n",
        "고정소수점(Fixed-point): 소수점의 위치가 고정되어 있어 정밀도가 높지만 표현할 수 있는 범위가 제한적입니다\n",
        "부동소수점(Floating-point): 소수점의 위치가 가변적이어서 넓은 범위의 숫자를 표현할 수 있지만, 근삿값으로 표현되므로 약간의 오차가 발생할 수 있습니다\n",
        "'''\n",
        "\n",
        "import struct\n",
        "\n",
        "def float_to_bin(num):\n",
        "    \"\"\"부동소수점 수를 이진수로 변환\"\"\"\n",
        "    return format(struct.unpack('!I', struct.pack('!f', num))[0], '032b')\n",
        "\n",
        "def bin_to_float(b):\n",
        "    \"\"\"이진수를 부동소수점 수로 변환\"\"\"\n",
        "    return struct.unpack('!f', struct.pack('!I', int(b, 2)))[0]\n",
        "\n",
        "# 예제: 3.14를 부동소수점으로 변환\n",
        "float_num = 3.14\n",
        "binary_representation = float_to_bin(float_num)\n",
        "print(f\"부동소수점 수 {float_num}의 이진 표현: {binary_representation}\")\n",
        "\n",
        "# 이진수를 다시 부동소수점 수로 변환\n",
        "reconstructed_float = bin_to_float(binary_representation)\n",
        "print(f\"이진 표현 {binary_representation}의 부동소수점 수: {reconstructed_float}\")\n"
      ],
      "metadata": {
        "colab": {
          "base_uri": "https://localhost:8080/"
        },
        "id": "3v1z-ri_xSvC",
        "outputId": "65e439a8-ca16-471e-8b9c-c02b26c0f3ce"
      },
      "execution_count": null,
      "outputs": [
        {
          "output_type": "stream",
          "name": "stdout",
          "text": [
            "부동소수점 수 3.14의 이진 표현: 01000000010010001111010111000011\n",
            "이진 표현 01000000010010001111010111000011의 부동소수점 수: 3.140000104904175\n"
          ]
        }
      ]
    },
    {
      "cell_type": "code",
      "source": [
        "'''\n",
        "수치해석 개요\n",
        "수치해석은 수학적 문제를 컴퓨터를 이용해 풀기 위한 방법론을 연구하는 학문입니다. 수학적 문제를 정확하게 풀기 어려운 경우, 근사값을 구하는 방법을 사용합니다. 예를 들어, 복잡한 방정식을 손으로 풀기 어려울 때 컴퓨터를 이용해 근사값을 구하는 것이 수치해석의 한 예입니다.\n",
        "\n",
        "수치해석의 정의와 중요성\n",
        "정의: 수치해석은 수학적 문제를 수치적으로 해결하는 방법을 연구하는 학문입니다. 여기에는 방정식의 해를 구하거나, 함수의 값을 근사하는 등의 다양한 방법이 포함됩니다.\n",
        "\n",
        "중요성: 수치해석은 다음과 같은 이유로 중요합니다:\n",
        "\n",
        "복잡한 문제 해결: 많은 수학적 문제는 해석적으로 풀기 어렵거나 불가능합니다. 수치해석을 통해 이러한 문제를 근사적으로 해결할 수 있습니다.\n",
        "컴퓨터 활용: 현대 사회에서는 컴퓨터를 이용해 빠르고 정확하게 계산하는 것이 중요합니다. 수치해석은 컴퓨터를 활용한 계산 방법을 제공합니다.\n",
        "실생활 응용: 수치해석은 공학, 물리학, 경제학 등 다양한 분야에서 실제 문제를 해결하는 데 사용됩니다.\n",
        "수치해석의 응용 분야\n",
        "수치해석은 다양한 실생활 문제를 해결하는 데 사용됩니다. 몇 가지 예를 들어볼게요:\n",
        "\n",
        "공학: 구조물의 안정성을 분석하거나, 유체의 흐름을 시뮬레이션하는 데 사용됩니다. 예를 들어, 다리의 설계에서 하중을 계산할 때 수치해석이 사용됩니다.\n",
        "물리학: 천체의 궤도를 계산하거나, 양자역학 문제를 해결하는 데 사용됩니다. 예를 들어, 인공위성의 궤도를 예측할 때 수치해석이 사용됩니다.\n",
        "경제학: 금융 모델을 구축하거나, 시장의 변동성을 분석하는 데 사용됩니다. 예를 들어, 주식 가격의 변동을 예측할 때 수치해석이 사용됩니다.\n",
        "의학: 생체 신호를 분석하거나, 약물의 효과를 시뮬레이션하는 데 사용됩니다. 예를 들어, 심전도 데이터를 분석하여 심장 질환을 진단할 때 수치해석이 사용됩니다.\n",
        "'''\n",
        "\n"
      ],
      "metadata": {
        "colab": {
          "base_uri": "https://localhost:8080/",
          "height": 237
        },
        "id": "eNZKa22DxSzg",
        "outputId": "b1c3a0bc-eab7-43ca-d3e8-f5f27a94637b"
      },
      "execution_count": null,
      "outputs": [
        {
          "output_type": "execute_result",
          "data": {
            "text/plain": [
              "'\\n수치해석 개요\\n수치해석은 수학적 문제를 컴퓨터를 이용해 풀기 위한 방법론을 연구하는 학문입니다. 수학적 문제를 정확하게 풀기 어려운 경우, 근사값을 구하는 방법을 사용합니다. 예를 들어, 복잡한 방정식을 손으로 풀기 어려울 때 컴퓨터를 이용해 근사값을 구하는 것이 수치해석의 한 예입니다.\\n\\n수치해석의 정의와 중요성\\n정의: 수치해석은 수학적 문제를 수치적으로 해결하는 방법을 연구하는 학문입니다. 여기에는 방정식의 해를 구하거나, 함수의 값을 근사하는 등의 다양한 방법이 포함됩니다.\\n\\n중요성: 수치해석은 다음과 같은 이유로 중요합니다:\\n\\n복잡한 문제 해결: 많은 수학적 문제는 해석적으로 풀기 어렵거나 불가능합니다. 수치해석을 통해 이러한 문제를 근사적으로 해결할 수 있습니다.\\n컴퓨터 활용: 현대 사회에서는 컴퓨터를 이용해 빠르고 정확하게 계산하는 것이 중요합니다. 수치해석은 컴퓨터를 활용한 계산 방법을 제공합니다.\\n실생활 응용: 수치해석은 공학, 물리학, 경제학 등 다양한 분야에서 실제 문제를 해결하는 데 사용됩니다.\\n수치해석의 응용 분야\\n수치해석은 다양한 실생활 문제를 해결하는 데 사용됩니다. 몇 가지 예를 들어볼게요:\\n\\n공학: 구조물의 안정성을 분석하거나, 유체의 흐름을 시뮬레이션하는 데 사용됩니다. 예를 들어, 다리의 설계에서 하중을 계산할 때 수치해석이 사용됩니다.\\n물리학: 천체의 궤도를 계산하거나, 양자역학 문제를 해결하는 데 사용됩니다. 예를 들어, 인공위성의 궤도를 예측할 때 수치해석이 사용됩니다.\\n경제학: 금융 모델을 구축하거나, 시장의 변동성을 분석하는 데 사용됩니다. 예를 들어, 주식 가격의 변동을 예측할 때 수치해석이 사용됩니다.\\n의학: 생체 신호를 분석하거나, 약물의 효과를 시뮬레이션하는 데 사용됩니다. 예를 들어, 심전도 데이터를 분석하여 심장 질환을 진단할 때 수치해석이 사용됩니다.\\n'"
            ],
            "application/vnd.google.colaboratory.intrinsic+json": {
              "type": "string"
            }
          },
          "metadata": {},
          "execution_count": 40
        }
      ]
    },
    {
      "cell_type": "code",
      "source": [
        "'''\n",
        "수치해석에서 근사적으로 계산을 한다는 것은 '실제 값과 약간의 차이가 있을 수 있다는 것'을 의미합니다.\n",
        "하지만 이러한 차이는 대부분의 실생활 문제에서 허용 가능한 범위 내에 있습니다. 몇 가지 이유로 수치해석이 널리 사용됩니다:\n",
        "\n",
        "1. 실제 문제의 복잡성\n",
        "많은 실제 문제는 해석적으로 풀기 어렵거나 불가능합니다. 예를 들어, 복잡한 비선형 방정식이나 고차원 시스템의 경우, 정확한 해를 구하는 것이 매우 어렵습니다. 수치해석을 통해 근사값을 구하면 충분히 유용한 결과를 얻을 수 있습니다.\n",
        "\n",
        "2. 오차 관리\n",
        "수치해석에서는 오차를 최소화하기 위한 다양한 기법이 사용됩니다. 예를 들어, 더 작은 간격을 사용하거나 더 정교한 알고리즘을 사용하여 오차를 줄일 수 있습니다. 또한, 오차를 분석하고 관리하는 방법도 중요합니다.\n",
        "\n",
        "3. 컴퓨터의 계산 능력\n",
        "현대 컴퓨터는 매우 빠르고 정확하게 계산을 수행할 수 있습니다. 수치해석 알고리즘을 사용하면 짧은 시간 내에 매우 정확한 근사값을 얻을 수 있습니다. 이는 실시간으로 결과를 필요로 하는 많은 응용 분야에서 매우 유용합니다.\n",
        "\n",
        "4. 실생활 응용에서의 허용 오차\n",
        "많은 실생활 응용에서는 약간의 오차가 큰 문제가 되지 않습니다. 예를 들어, 공학 설계에서 구조물의 안정성을 계산할 때, 몇 밀리미터의 차이는 실제로 큰 영향을 미치지 않을 수 있습니다. 경제 모델에서도 약간의 오차는 예측의 신뢰성을 크게 떨어뜨리지 않습니다.\n",
        "'''"
      ],
      "metadata": {
        "colab": {
          "base_uri": "https://localhost:8080/",
          "height": 182
        },
        "id": "yeHmVYw2xS4T",
        "outputId": "7866da76-31d6-4d4d-c7de-b02deb23504f"
      },
      "execution_count": null,
      "outputs": [
        {
          "output_type": "execute_result",
          "data": {
            "text/plain": [
              "\"\\n수치해석에서 근사적으로 계산을 한다는 것은 '실제 값과 약간의 차이가 있을 수 있다는 것'을 의미합니다. \\n하지만 이러한 차이는 대부분의 실생활 문제에서 허용 가능한 범위 내에 있습니다. 몇 가지 이유로 수치해석이 널리 사용됩니다:\\n\\n1. 실제 문제의 복잡성\\n많은 실제 문제는 해석적으로 풀기 어렵거나 불가능합니다. 예를 들어, 복잡한 비선형 방정식이나 고차원 시스템의 경우, 정확한 해를 구하는 것이 매우 어렵습니다. 수치해석을 통해 근사값을 구하면 충분히 유용한 결과를 얻을 수 있습니다.\\n\\n2. 오차 관리\\n수치해석에서는 오차를 최소화하기 위한 다양한 기법이 사용됩니다. 예를 들어, 더 작은 간격을 사용하거나 더 정교한 알고리즘을 사용하여 오차를 줄일 수 있습니다. 또한, 오차를 분석하고 관리하는 방법도 중요합니다.\\n\\n3. 컴퓨터의 계산 능력\\n현대 컴퓨터는 매우 빠르고 정확하게 계산을 수행할 수 있습니다. 수치해석 알고리즘을 사용하면 짧은 시간 내에 매우 정확한 근사값을 얻을 수 있습니다. 이는 실시간으로 결과를 필요로 하는 많은 응용 분야에서 매우 유용합니다.\\n\\n4. 실생활 응용에서의 허용 오차\\n많은 실생활 응용에서는 약간의 오차가 큰 문제가 되지 않습니다. 예를 들어, 공학 설계에서 구조물의 안정성을 계산할 때, 몇 밀리미터의 차이는 실제로 큰 영향을 미치지 않을 수 있습니다. 경제 모델에서도 약간의 오차는 예측의 신뢰성을 크게 떨어뜨리지 않습니다.\\n\""
            ],
            "application/vnd.google.colaboratory.intrinsic+json": {
              "type": "string"
            }
          },
          "metadata": {},
          "execution_count": 41
        }
      ]
    },
    {
      "cell_type": "code",
      "source": [
        "'''\n",
        "수치적 미분\n",
        "수치적 미분은 함수의 변화율을 근사적으로 계산하는 방법입니다. 가장 일반적인 방법 중 하나는 중앙 차분법입니다.\n",
        "'''\n",
        "\n",
        "import numpy as np\n",
        "\n",
        "# 함수 f(x) = x^2\n",
        "def f(x):\n",
        "    return x**2\n",
        "\n",
        "# 수치적 미분 (중앙 차분법)\n",
        "def numerical_derivative(f, x, h=1e-5):\n",
        "    return (f(x + h) - f(x - h)) / (2 * h)\n",
        "\n",
        "# x = 2에서의 미분 값\n",
        "x = 2\n",
        "derivative = numerical_derivative(f, x)\n",
        "print(f\"x = {x}에서의 미분 값: {derivative}\")\n"
      ],
      "metadata": {
        "colab": {
          "base_uri": "https://localhost:8080/"
        },
        "id": "An9rlV-01nkn",
        "outputId": "8eef5c3c-96d5-4186-c095-60abfbffc30a"
      },
      "execution_count": null,
      "outputs": [
        {
          "output_type": "stream",
          "name": "stdout",
          "text": [
            "x = 2에서의 미분 값: 4.000000000026205\n"
          ]
        }
      ]
    },
    {
      "cell_type": "code",
      "source": [
        "'''\n",
        "수치적 적분\n",
        "수치적 적분은 함수의 면적을 근사적으로 계산하는 방법입니다. 가장 일반적인 방법 중 하나는 사다리꼴 법입니다.\n",
        "'''\n",
        "\n",
        "import numpy as np\n",
        "import scipy.integrate as integrate\n",
        "\n",
        "# 함수 f(x) = x^2\n",
        "def f(x):\n",
        "    return x**2\n",
        "\n",
        "# 수치적 적분 (사다리꼴 법)\n",
        "a, b = 0, 3  # 적분 구간\n",
        "integral, error = integrate.quad(f, a, b)\n",
        "print(f\"{a}에서 {b}까지의 적분 값: {integral}\")\n"
      ],
      "metadata": {
        "colab": {
          "base_uri": "https://localhost:8080/"
        },
        "id": "enkKOOcg1nph",
        "outputId": "2e1fc7b4-6692-425b-f3b4-53f2f035f2ca"
      },
      "execution_count": null,
      "outputs": [
        {
          "output_type": "stream",
          "name": "stdout",
          "text": [
            "0에서 3까지의 적분 값: 9.000000000000002\n"
          ]
        }
      ]
    },
    {
      "cell_type": "code",
      "source": [
        "'''\n",
        "오차 분석\n",
        "오차 분석은 계산 결과가 실제 값과 얼마나 차이가 나는지를 분석하는 과정입니다. 이는 수치해석에서 매우 중요한 부분입니다. 오차는 크게 절대 오차와 상대 오차로 나눌 수 있습니다.\n",
        "\n",
        "절대 오차와 상대 오차\n",
        "절대 오차는 계산된 값과 실제 값의 차이를 의미합니다. 반면, 상대 오차는 절대 오차를 실제 값으로 나눈 값으로, 오차의 상대적인 크기를 나타냅니다.\n",
        "\n",
        "절대 오차: 절대 오차 = | 실제 값 - 계산된 값 |\n",
        "상대 오차: 상대 오차 = 절대 오차 / 실제 값\n",
        "실생활 문제 예시: 거리 측정\n",
        "예를 들어, GPS를 사용해 두 지점 간의 거리를 측정한다고 가정해봅시다. 실제 거리는 1000m인데, GPS가 995m로 측정했다면:\n",
        "\n",
        "절대 오차: |1000 - 995| = 5 m\n",
        "상대 오차: 5 / 1000 = 0.005 (0.5%)\n",
        "유효 숫자와 반올림 오차\n",
        "유효 숫자는 측정값의 정확도를 나타내는 숫자입니다. 반올림 오차는 계산 과정에서 숫자를 반올림할 때 발생하는 오차입니다.\n",
        "\n",
        "실생활 문제 예시: 금액 계산\n",
        "예를 들어, 상품의 가격이 123.456원을 123.46원으로 반올림한다고 가정해봅시다.\n",
        "\n",
        "유효 숫자: 123.46 (소수점 이하 두 자리까지 유효)\n",
        "반올림 오차: |123.456 - 123.46| = 0.004 원\n",
        "'''"
      ],
      "metadata": {
        "colab": {
          "base_uri": "https://localhost:8080/",
          "height": 163
        },
        "id": "Ue1IUXxazbDR",
        "outputId": "60259ede-0fc5-4d23-966a-31965ab1c5f2"
      },
      "execution_count": null,
      "outputs": [
        {
          "output_type": "execute_result",
          "data": {
            "text/plain": [
              "'\\n오차 분석\\n오차 분석은 계산 결과가 실제 값과 얼마나 차이가 나는지를 분석하는 과정입니다. 이는 수치해석에서 매우 중요한 부분입니다. 오차는 크게 절대 오차와 상대 오차로 나눌 수 있습니다.\\n\\n절대 오차와 상대 오차\\n절대 오차는 계산된 값과 실제 값의 차이를 의미합니다. 반면, 상대 오차는 절대 오차를 실제 값으로 나눈 값으로, 오차의 상대적인 크기를 나타냅니다.\\n\\n절대 오차: 절대 오차 = | 실제 값 - 계산된 값 |\\n상대 오차: 상대 오차 = 절대 오차 / 실제 값\\n실생활 문제 예시: 거리 측정\\n예를 들어, GPS를 사용해 두 지점 간의 거리를 측정한다고 가정해봅시다. 실제 거리는 1000m인데, GPS가 995m로 측정했다면:\\n\\n절대 오차: |1000 - 995| = 5 m\\n상대 오차: 5 / 1000 = 0.005 (0.5%)\\n유효 숫자와 반올림 오차\\n유효 숫자는 측정값의 정확도를 나타내는 숫자입니다. 반올림 오차는 계산 과정에서 숫자를 반올림할 때 발생하는 오차입니다.\\n\\n실생활 문제 예시: 금액 계산\\n예를 들어, 상품의 가격이 123.456원을 123.46원으로 반올림한다고 가정해봅시다.\\n\\n유효 숫자: 123.46 (소수점 이하 두 자리까지 유효)\\n반올림 오차: |123.456 - 123.46| = 0.004 원\\n'"
            ],
            "application/vnd.google.colaboratory.intrinsic+json": {
              "type": "string"
            }
          },
          "metadata": {},
          "execution_count": 44
        }
      ]
    },
    {
      "cell_type": "code",
      "source": [
        "# 실제 값과 계산된 값을 정의합니다.\n",
        "actual_value = 1000  # 실제 값 (예: 실제 거리)\n",
        "calculated_value = 995  # 계산된 값 (예: GPS로 측정된 거리)\n",
        "\n",
        "# 절대 오차를 계산합니다.\n",
        "absolute_error = abs(actual_value - calculated_value)\n",
        "print(f\"절대 오차: {absolute_error} m\")\n",
        "\n",
        "# 상대 오차를 계산합니다.\n",
        "relative_error = absolute_error / actual_value\n",
        "print(f\"상대 오차: {relative_error * 100:.2f}%\")\n",
        "\n",
        "# 유효 숫자와 반올림 오차를 계산하는 예제\n",
        "original_value = 123.456  # 원래 값\n",
        "rounded_value = round(original_value, 2)  # 소수점 이하 두 자리로 반올림\n",
        "\n",
        "# 반올림 오차를 계산합니다.\n",
        "rounding_error = abs(original_value - rounded_value)\n",
        "print(f\"반올림 오차: {rounding_error} 원\")\n"
      ],
      "metadata": {
        "colab": {
          "base_uri": "https://localhost:8080/"
        },
        "id": "6mezWJps0jdw",
        "outputId": "6cd30622-7edf-454e-b6c6-489b87ed1b02"
      },
      "execution_count": null,
      "outputs": [
        {
          "output_type": "stream",
          "name": "stdout",
          "text": [
            "절대 오차: 5 m\n",
            "상대 오차: 0.50%\n",
            "반올림 오차: 0.003999999999990678 원\n"
          ]
        }
      ]
    },
    {
      "cell_type": "code",
      "source": [
        "'''\n",
        "비선형 방정식의 해법\n",
        "비선형 방정식은 선형 방정식과 달리 해를 구하기가 어렵습니다. 수치해석에서는 이러한 비선형 방정식의 해를 근사적으로 구하는 다양한 방법이 있습니다. 여기서는 이분법, 뉴턴-랩슨 방법, 고정점 반복법을 다루겠습니다.\n",
        "\n",
        "1. 이분법\n",
        "이분법은 함수의 근을 찾기 위한 간단하고 직관적인 방법입니다. 이 방법은 함수가 연속이고, 두 점에서의 함수 값이 서로 다른 부호를 가질 때 사용됩니다.\n",
        "\n",
        "원리\n",
        "구간 [a, b]를 설정합니다.\n",
        "중간점 c = (a + b) / 2를 계산합니다.\n",
        "f©의 부호를 확인합니다.\n",
        "f©의 부호가 f(a)와 같으면 a = c, 그렇지 않으면 b = c로 설정합니다.\n",
        "원하는 정확도에 도달할 때까지 반복합니다.\n",
        "실생활 예시: 온도 조절\n",
        "예를 들어, 온도 조절 시스템에서 원하는 온도를 찾기 위해 이분법을 사용할 수 있습니다.\n",
        "'''\n",
        "\n",
        "def f(x):\n",
        "    return x**3 - x - 2  # 예시 함수\n",
        "\n",
        "def bisection_method(f, a, b, tol=1e-5):\n",
        "    if f(a) * f(b) >= 0:\n",
        "        print(\"이분법을 적용할 수 없습니다.\")\n",
        "        return None\n",
        "    while (b - a) / 2 > tol:\n",
        "        c = (a + b) / 2\n",
        "        if f(c) == 0:\n",
        "            return c\n",
        "        elif f(a) * f(c) < 0:\n",
        "            b = c\n",
        "        else:\n",
        "            a = c\n",
        "    return (a + b) / 2\n",
        "\n",
        "# 구간 [1, 2]에서 근을 찾습니다.\n",
        "root = bisection_method(f, 1, 2)\n",
        "print(f\"근: {root}\")\n"
      ],
      "metadata": {
        "colab": {
          "base_uri": "https://localhost:8080/"
        },
        "id": "6UzHAue60j7k",
        "outputId": "423adf57-1cff-45e9-e22b-3b1ac1d1710f"
      },
      "execution_count": null,
      "outputs": [
        {
          "output_type": "stream",
          "name": "stdout",
          "text": [
            "근: 1.5213851928710938\n"
          ]
        }
      ]
    },
    {
      "cell_type": "code",
      "source": [
        "'''\n",
        "뉴턴-랩슨 방법\n",
        "뉴턴-랩슨 방법은 함수의 근을 빠르게 찾기 위한 방법입니다. 이 방법은 함수의 도함수를 사용하여 근을 반복적으로 개선합니다.\n",
        "\n",
        "원리\n",
        "초기 추정값 ( x_0 )를 설정합니다.\n",
        "다음 식을 사용하여 새로운 추정값을 계산합니다: ( x_1 = x_0 - \\frac{f(x_0)}{f’(x_0)} )\n",
        "원하는 정확도에 도달할 때까지 반복합니다.\n",
        "실생활 예시: 최적화 문제\n",
        "예를 들어, 최적화 문제에서 비용 함수를 최소화하기 위해 뉴턴-랩슨 방법을 사용할 수 있습니다.\n",
        "'''\n",
        "\n",
        "import numpy as np\n",
        "\n",
        "# 함수 f(x) = x^3 - x - 2\n",
        "def f(x):\n",
        "    return x**3 - x - 2\n",
        "\n",
        "# 수치적 미분 (중앙 차분법)\n",
        "def numerical_derivative(f, x, h=1e-5):\n",
        "    return (f(x + h) - f(x - h)) / (2 * h)\n",
        "\n",
        "# 뉴턴-랩슨 방법\n",
        "def newton_raphson_method(f, x0, tol=1e-5):\n",
        "    x = x0\n",
        "    while abs(f(x)) > tol:\n",
        "        df = numerical_derivative(f, x)  # 수치적 미분을 사용하여 도함수 계산\n",
        "        x = x - f(x) / df\n",
        "    return x\n",
        "\n",
        "# 초기 추정값 x0 = 1.5에서 근을 찾습니다.\n",
        "root = newton_raphson_method(f, 1.5)\n",
        "print(f\"근: {root}\")\n"
      ],
      "metadata": {
        "colab": {
          "base_uri": "https://localhost:8080/"
        },
        "id": "YC_mtjRO0836",
        "outputId": "c1f5cf3a-53e4-47e4-92cf-8626251a0b24"
      },
      "execution_count": null,
      "outputs": [
        {
          "output_type": "stream",
          "name": "stdout",
          "text": [
            "근: 1.521379805964795\n"
          ]
        }
      ]
    },
    {
      "cell_type": "code",
      "source": [
        "'''\n",
        "함수의 고정점은 함수의 '입력값과 출력값이 동일한 점'을 의미합니다.\n",
        "\n",
        "즉, 함수 ( g(x) )에 대해 ( g(x) = x )를 만족하는 ( x ) 값을 고정점이라고 합니다.\n",
        "\n",
        "고정점의 의미\n",
        "고정점은 함수가 자기 자신을 반복적으로 적용했을 때 변하지 않는 값을 나타냅니다. 이는 수학적, 물리적, 경제적 모델에서 중요한 개념입니다.\n",
        "\n",
        "수학적 정의\n",
        "함수 ( g(x) )의 고정점은 다음과 같이 정의됩니다:\n",
        "g(x)=x\n",
        "실생활 예시\n",
        "\n",
        "경제 모델: 경제학에서 고정점은 시장의 균형 상태를 나타낼 수 있습니다. 예를 들어, 수요와 공급이 일치하는 가격 수준이 고정점이 될 수 있습니다.\n",
        "\n",
        "물리학: 물리 시스템에서 고정점은 시스템이 안정된 상태에 도달했을 때의 상태를 나타낼 수 있습니다. 예를 들어, 진자의 안정된 위치가 고정점이 될 수 있습니다.\n",
        "\n",
        "컴퓨터 그래픽스: 반복적인 변환을 적용할 때, 변하지 않는 점이 고정점이 될 수 있습니다. 예를 들어, 프랙탈 생성에서 고정점이 중요한 역할을 합니다.\n",
        "\n",
        "고정점 반복법\n",
        "고정점 반복법은 함수의 고정점을 찾기 위한 방법입니다. 이 방법은 함수 ( g(x) )를 반복적으로 적용하여 고정점을 찾습니다.\n",
        "원리\n",
        "\n",
        "초기 추정값 ( x_0 )를 설정합니다.\n",
        "다음 식을 사용하여 새로운 추정값을 계산합니다: ( x_{n+1} = g(x_n) )\n",
        "원하는 정확도에 도달할 때까지 반복합니다.\n",
        "'''"
      ],
      "metadata": {
        "colab": {
          "base_uri": "https://localhost:8080/",
          "height": 163
        },
        "id": "D9nsA5r2087g",
        "outputId": "5cb22099-7bad-49bd-962b-eddc5c2d6194"
      },
      "execution_count": null,
      "outputs": [
        {
          "output_type": "execute_result",
          "data": {
            "text/plain": [
              "\"\\n함수의 고정점은 함수의 '입력값과 출력값이 동일한 점'을 의미합니다. \\n\\n즉, 함수 ( g(x) )에 대해 ( g(x) = x )를 만족하는 ( x ) 값을 고정점이라고 합니다.\\n\\n고정점의 의미\\n고정점은 함수가 자기 자신을 반복적으로 적용했을 때 변하지 않는 값을 나타냅니다. 이는 수학적, 물리적, 경제적 모델에서 중요한 개념입니다.\\n\\n수학적 정의\\n함수 ( g(x) )의 고정점은 다음과 같이 정의됩니다:\\ng(x)=x\\n실생활 예시\\n\\n경제 모델: 경제학에서 고정점은 시장의 균형 상태를 나타낼 수 있습니다. 예를 들어, 수요와 공급이 일치하는 가격 수준이 고정점이 될 수 있습니다.\\n\\n물리학: 물리 시스템에서 고정점은 시스템이 안정된 상태에 도달했을 때의 상태를 나타낼 수 있습니다. 예를 들어, 진자의 안정된 위치가 고정점이 될 수 있습니다.\\n\\n컴퓨터 그래픽스: 반복적인 변환을 적용할 때, 변하지 않는 점이 고정점이 될 수 있습니다. 예를 들어, 프랙탈 생성에서 고정점이 중요한 역할을 합니다.\\n\\n고정점 반복법\\n고정점 반복법은 함수의 고정점을 찾기 위한 방법입니다. 이 방법은 함수 ( g(x) )를 반복적으로 적용하여 고정점을 찾습니다.\\n원리\\n\\n초기 추정값 ( x_0 )를 설정합니다.\\n다음 식을 사용하여 새로운 추정값을 계산합니다: ( x_{n+1} = g(x_n) )\\n원하는 정확도에 도달할 때까지 반복합니다.\\n\""
            ],
            "application/vnd.google.colaboratory.intrinsic+json": {
              "type": "string"
            }
          },
          "metadata": {},
          "execution_count": 48
        }
      ]
    },
    {
      "cell_type": "code",
      "source": [
        "# 고정점 반복법\n",
        "\n",
        "def fixed_point_iteration(g, x0, tol=1e-5):\n",
        "    \"\"\"\n",
        "    고정점 반복법을 사용하여 함수 g(x)의 고정점을 찾습니다.\n",
        "\n",
        "    매개변수:\n",
        "    g (function): 고정점을 찾기 위한 함수\n",
        "    x0 (float): 초기 추정값\n",
        "    tol (float): 원하는 정확도 (기본값: 1e-5)\n",
        "\n",
        "    반환값:\n",
        "    float: 함수 g(x)의 고정점\n",
        "    \"\"\"\n",
        "    x = x0  # 초기 추정값을 x에 할당합니다.\n",
        "    while abs(g(x) - x) > tol:  # g(x)와 x의 차이가 tol보다 큰 동안 반복합니다.\n",
        "        x = g(x)  # 새로운 추정값을 계산하여 x에 할당합니다.\n",
        "    return x  # 고정점을 반환합니다.\n"
      ],
      "metadata": {
        "id": "6_HUL57Y08-t"
      },
      "execution_count": null,
      "outputs": []
    },
    {
      "cell_type": "code",
      "source": [
        "'''\n",
        "1. 가우스 소거법\n",
        "가우스 소거법은 데이터 과학에서 회귀 분석과 같은 선형 모델을 푸는 데 사용됩니다. 예를 들어, 다중 선형 회귀 분석에서 여러 독립 변수와 종속 변수 간의 관계를 모델링할 때 가우스 소거법을 사용하여 회귀 계수를 계산할 수 있습니다.\n",
        "\n",
        "실생활 예시: 주택 가격 예측\n",
        "주택 가격 예측 모델에서 여러 독립 변수(예: 면적, 방의 수, 위치 등)를 사용하여 주택 가격을 예측할 수 있습니다. 이때 가우스 소거법을 사용하여 회귀 계수를 계산합니다.\n",
        "'''\n",
        "\n",
        "import numpy as np\n",
        "\n",
        "def gauss_elimination(A, b):\n",
        "    \"\"\"\n",
        "    가우스 소거법을 사용하여 선형 방정식 Ax = b를 풉니다.\n",
        "\n",
        "    매개변수:\n",
        "    A (ndarray): 계수 행렬\n",
        "    b (ndarray): 상수 벡터\n",
        "\n",
        "    반환값:\n",
        "    ndarray: 해 벡터 x\n",
        "    \"\"\"\n",
        "    n = len(b)  # 행렬의 크기 (행의 수)\n",
        "\n",
        "    # 전진 소거 과정\n",
        "    for i in range(n):\n",
        "        # 피벗 선택 및 행 교환\n",
        "        max_row = np.argmax(abs(A[i:, i])) + i  # 현재 열에서 절대값이 가장 큰 요소의 행을 찾습니다.\n",
        "        A[[i, max_row]] = A[[max_row, i]]  # 현재 행과 피벗 행을 교환합니다.\n",
        "        b[[i, max_row]] = b[[max_row, i]]  # 상수 벡터에서도 동일하게 교환합니다.\n",
        "\n",
        "        # 피벗 행을 1로 만듦\n",
        "        pivot = A[i, i]  # 피벗 요소\n",
        "        A[i] = A[i] / pivot  # 피벗 행의 모든 요소를 피벗 값으로 나눕니다.\n",
        "        b[i] = b[i] / pivot  # 상수 벡터의 해당 요소도 나눕니다.\n",
        "\n",
        "        # 피벗 열을 0으로 만듦\n",
        "        for j in range(i + 1, n):\n",
        "            factor = A[j, i]  # 현재 행의 피벗 열 요소\n",
        "            A[j] = A[j] - factor * A[i]  # 피벗 행을 빼서 피벗 열을 0으로 만듭니다.\n",
        "            b[j] = b[j] - factor * b[i]  # 상수 벡터에서도 동일하게 처리합니다.\n",
        "\n",
        "    # 후진 대입 과정\n",
        "    x = np.zeros(n)  # 해 벡터 초기화\n",
        "    for i in range(n - 1, -1, -1):\n",
        "        x[i] = b[i] - np.dot(A[i, i + 1:], x[i + 1:])  # 상삼각 행렬을 사용하여 해를 구합니다.\n",
        "\n",
        "    return x  # 해 벡터를 반환합니다\n",
        "\n",
        "# 예시 행렬 A와 벡터 b\n",
        "A = np.array([[2, 1, -1],\n",
        "              [-3, -1, 2],\n",
        "              [-2, 1, 2]], dtype=float)\n",
        "b = np.array([8, -11, -3], dtype=float)\n",
        "\n",
        "# 가우스 소거법을 사용하여 해를 구합니다.\n",
        "x = gauss_elimination(A, b)\n",
        "print(f\"해: {x}\")\n"
      ],
      "metadata": {
        "colab": {
          "base_uri": "https://localhost:8080/"
        },
        "id": "dYKWz78b09B2",
        "outputId": "e09e4644-59cf-40df-893d-57470a565f38"
      },
      "execution_count": null,
      "outputs": [
        {
          "output_type": "stream",
          "name": "stdout",
          "text": [
            "해: [ 2.  3. -1.]\n"
          ]
        }
      ]
    },
    {
      "cell_type": "code",
      "source": [
        "'''\n",
        "2. LU 분해\n",
        "LU 분해는 데이터 과학에서 대규모 데이터 세트의 선형 방정식을 효율적으로 푸는 데 사용됩니다. 예를 들어, 추천 시스템에서 사용자와 아이템 간의 상호작용을 모델링할 때 LU 분해를 사용하여 행렬 분해를 수행할 수 있습니다.\n",
        "\n",
        "실생활 예시: 영화 추천 시스템\n",
        "영화 추천 시스템에서 사용자-아이템 행렬을 분해하여 사용자에게 맞춤형 영화를 추천할 수 있습니다.\n",
        "'''\n",
        "\n",
        "import numpy as np\n",
        "from scipy.linalg import lu\n",
        "\n",
        "# 예시 사용자-아이템 행렬\n",
        "R = np.array([[5, 3, 0, 1],\n",
        "              [4, 0, 0, 1],\n",
        "              [1, 1, 0, 5],\n",
        "              [1, 0, 0, 4],\n",
        "              [0, 1, 5, 4]], dtype=float)\n",
        "\n",
        "# LU 분해를 사용하여 행렬을 분해합니다.\n",
        "P, L, U = lu(R)\n",
        "\n",
        "print(\"L 행렬:\")\n",
        "print(L)\n",
        "print(\"U 행렬:\")\n",
        "print(U)\n"
      ],
      "metadata": {
        "colab": {
          "base_uri": "https://localhost:8080/"
        },
        "id": "0uVd5UP009FI",
        "outputId": "7fe216e0-47fa-4e8c-b773-1d1564d8c60f"
      },
      "execution_count": null,
      "outputs": [
        {
          "output_type": "stream",
          "name": "stdout",
          "text": [
            "L 행렬:\n",
            "[[ 1.          0.          0.          0.        ]\n",
            " [ 0.8         1.          0.          0.        ]\n",
            " [ 0.         -0.41666667  1.          0.        ]\n",
            " [ 0.2        -0.16666667  0.          1.        ]\n",
            " [ 0.2         0.25        0.          0.77586207]]\n",
            "U 행렬:\n",
            "[[ 5.          3.          0.          1.        ]\n",
            " [ 0.         -2.4         0.          0.2       ]\n",
            " [ 0.          0.          5.          4.08333333]\n",
            " [ 0.          0.          0.          4.83333333]]\n"
          ]
        }
      ]
    },
    {
      "cell_type": "code",
      "source": [
        "'''\n",
        "행렬의 조건수\n",
        "행렬의 조건수는 행렬의 민감도를 나타내는 지표로, 행렬이 얼마나 안정적인지를 평가하는 데 사용됩니다. 조건수가 큰 행렬은 작은 변화에도 큰 영향을 받을 수 있으며, 이는 수치해석에서 중요한 개념입니다.\n",
        "조건수의 원리\n",
        "행렬 ( A )의 조건수는 다음과 같이 정의됩니다:\n",
        "cond(A)=∥A∥⋅∥A−1∥\n",
        "여기서:\n",
        "\n",
        "( |A| )는 행렬 ( A )의 노름(norm)입니다.\n",
        "( |A^{-1}| )는 행렬 ( A )의 역행렬의 노름입니다.\n",
        "\n",
        "노름은 행렬의 크기를 측정하는 방법으로, 여러 종류의 노름이 있습니다. 일반적으로 2-노름(또는 유클리드 노름)이 많이 사용됩니다.\n",
        "조건수의 의미\n",
        "\n",
        "조건수가 작은 행렬: 행렬이 안정적이며, 작은 변화에도 큰 영향을 받지 않습니다.\n",
        "조건수가 큰 행렬: 행렬이 불안정하며, 작은 변화에도 큰 영향을 받을 수 있습니다. 이는 계산 결과의 신뢰성을 낮출 수 있습니다.\n",
        "\n",
        "행렬의 노름: 행렬의 크기 또는 길이를 측정합니다. 이는 행렬이 얼마나 큰 값을 가지는지를 나타냅니다.\n",
        "역행렬의 노름: 행렬의 역행렬의 크기를 측정합니다. 이는 행렬이 얼마나 잘 조건화되어 있는지를 나타냅니다.\n",
        "\n",
        "실생활 예시\n",
        "\n",
        "금융 모델링: 포트폴리오 최적화에서 조건수를 사용하여 모델의 안정성을 평가할 수 있습니다. 조건수가 큰 행렬은 작은 시장 변화에도 큰 영향을 받을 수 있습니다.\n",
        "기계 학습: 기계 학습 모델에서 조건수를 사용하여 데이터의 특성을 평가할 수 있습니다. 조건수가 큰 데이터는 모델의 학습에 어려움을 줄 수 있습니다.\n",
        "구조 해석: 건축 구조물의 안정성을 평가할 때 조건수를 사용하여 구조물의 민감도를 분석할 수 있습니다.\n",
        "'''\n",
        "\n",
        "# 회귀분석\n",
        "\n",
        "import numpy as np\n",
        "\n",
        "def condition_number(A):\n",
        "    \"\"\"\n",
        "    행렬 A의 조건수를 계산합니다.\n",
        "\n",
        "    매개변수:\n",
        "    A (ndarray): 행렬\n",
        "\n",
        "    반환값:\n",
        "    float: 조건수\n",
        "    \"\"\"\n",
        "    return np.linalg.norm(A, ord=2) * np.linalg.norm(np.linalg.inv(A), ord=2)\n",
        "\n",
        "# 예시 데이터 (독립 변수 행렬 X)\n",
        "X = np.array([[1, 2104, 5, 1, 45],\n",
        "              [1, 1416, 3, 2, 40],\n",
        "              [1, 1534, 3, 2, 30],\n",
        "              [1, 852, 2, 1, 36],\n",
        "              [1, 1234, 4, 2, 35]], dtype=float)\n",
        "\n",
        "# 독립 변수 행렬의 조건수를 계산합니다.\n",
        "cond_num_X = condition_number(X)\n",
        "print(f\"독립 변수 행렬의 조건수: {cond_num_X}\")\n"
      ],
      "metadata": {
        "colab": {
          "base_uri": "https://localhost:8080/"
        },
        "id": "ZFtVYSjK09IK",
        "outputId": "9b1abfbf-17f9-4dc0-f97c-2a0a97de45b1"
      },
      "execution_count": null,
      "outputs": [
        {
          "output_type": "stream",
          "name": "stdout",
          "text": [
            "독립 변수 행렬의 조건수: 18142.108645511027\n"
          ]
        }
      ]
    },
    {
      "cell_type": "code",
      "source": [
        "'''\n",
        "보간법과 곡선 맞춤\n",
        "보간법과 곡선 맞춤은 주어진 데이터 포인트를 기반으로 새로운 데이터를 예측하거나, 데이터의 패턴을 이해하는 데 사용됩니다. 여기서는 다항식 보간법, 스플라인 보간법, 최소 제곱법을 다루겠습니다.\n",
        "\n",
        "1. 다항식 보간법\n",
        "다항식 보간법은 주어진 데이터 포인트를 통과하는 다항식을 찾는 방법입니다. 이는 데이터 포인트가 적을 때 유용하지만, 데이터 포인트가 많아지면 과적합(overfitting) 문제가 발생할 수 있습니다.\n",
        "\n",
        "실생활 예시: 온도 예측\n",
        "기상 데이터에서 특정 시간대의 온도를 예측할 때 다항식 보간법을 사용할 수 있습니다.\n",
        "'''\n",
        "\n",
        "import numpy as np\n",
        "import matplotlib.pyplot as plt\n",
        "\n",
        "# 예시 데이터 (시간과 온도)\n",
        "x = np.array([0, 1, 2, 3, 4, 5])\n",
        "y = np.array([15, 16, 15, 18, 19, 20])\n",
        "\n",
        "# 다항식 보간\n",
        "coefficients = np.polyfit(x, y, 3)  # 3차 다항식으로 보간\n",
        "polynomial = np.poly1d(coefficients)\n",
        "\n",
        "# 새로운 데이터 포인트 예측\n",
        "x_new = np.linspace(0, 5, 100)\n",
        "y_new = polynomial(x_new)\n",
        "\n",
        "# 그래프 그리기\n",
        "plt.scatter(x, y, color='red', label='Data Points')\n",
        "plt.plot(x_new, y_new, label='Polynomial Fit')\n",
        "plt.xlabel('Time (hours)')\n",
        "plt.ylabel('Temperature (°C)')\n",
        "plt.legend()\n",
        "plt.title('Polynomial Interpolation')\n",
        "plt.show()\n"
      ],
      "metadata": {
        "colab": {
          "base_uri": "https://localhost:8080/",
          "height": 472
        },
        "id": "4SXAkz9509LT",
        "outputId": "0f28c3b6-92e5-4dd4-d452-51fa9cc1f02c"
      },
      "execution_count": null,
      "outputs": [
        {
          "output_type": "display_data",
          "data": {
            "text/plain": [
              "<Figure size 640x480 with 1 Axes>"
            ],
            "image/png": "[encoded data removed]"
          },
          "metadata": {}
        }
      ]
    },
    {
      "cell_type": "code",
      "source": [
        "'''\n",
        "2. 스플라인 보간법\n",
        "스플라인 보간법은 주어진 데이터 포인트를 통과하는 매끄러운 곡선을 찾는 방법입니다. 이는 다항식 보간법보다 더 안정적이며, 과적합 문제를 줄일 수 있습니다.\n",
        "\n",
        "실생활 예시: 주식 가격 예측\n",
        "주식 시장에서 특정 주식의 가격 변동을 예측할 때 스플라인 보간법을 사용할 수 있습니다.\n",
        "'''\n",
        "\n",
        "from scipy.interpolate import CubicSpline\n",
        "\n",
        "# 예시 데이터 (시간과 주식 가격)\n",
        "x = np.array([0, 1, 2, 3, 4, 5])\n",
        "y = np.array([100, 102, 101, 105, 107, 110])\n",
        "\n",
        "# 스플라인 보간\n",
        "cs = CubicSpline(x, y)\n",
        "\n",
        "# 새로운 데이터 포인트 예측\n",
        "x_new = np.linspace(0, 5, 100)\n",
        "y_new = cs(x_new)\n",
        "\n",
        "# 그래프 그리기\n",
        "plt.scatter(x, y, color='red', label='Data Points')\n",
        "plt.plot(x_new, y_new, label='Cubic Spline Fit')\n",
        "plt.xlabel('Time (days)')\n",
        "plt.ylabel('Stock Price ($)')\n",
        "plt.legend()\n",
        "plt.title('Cubic Spline Interpolation')\n",
        "plt.show()\n"
      ],
      "metadata": {
        "colab": {
          "base_uri": "https://localhost:8080/",
          "height": 472
        },
        "id": "OKpdJWq-09ON",
        "outputId": "aa8c47b0-4f71-4971-d527-5dd95cefaf41"
      },
      "execution_count": null,
      "outputs": [
        {
          "output_type": "display_data",
          "data": {
            "text/plain": [
              "<Figure size 640x480 with 1 Axes>"
            ],
            "image/png": "[encoded data removed]"
          },
          "metadata": {}
        }
      ]
    },
    {
      "cell_type": "code",
      "source": [
        "'''\n",
        "최소 제곱법\n",
        "최소 제곱법은 주어진 데이터 포인트에 가장 잘 맞는 곡선을 찾는 방법입니다. 이는 데이터 포인트와 곡선 사이의 오차를 최소화합니다.\n",
        "\n",
        "실생활 예시: 광고 효과 분석\n",
        "광고 비용과 매출 간의 관계를 분석할 때 최소 제곱법을 사용하여 회귀선을 찾을 수 있습니다.\n",
        "'''\n",
        "\n",
        "from sklearn.linear_model import LinearRegression\n",
        "\n",
        "# 예시 데이터 (광고 비용과 매출)\n",
        "X = np.array([[1], [2], [3], [4], [5]])\n",
        "y = np.array([10, 12, 15, 18, 20])\n",
        "\n",
        "# 최소 제곱법을 사용한 선형 회귀\n",
        "model = LinearRegression()\n",
        "model.fit(X, y)\n",
        "\n",
        "# 새로운 데이터 포인트 예측\n",
        "X_new = np.linspace(1, 5, 100).reshape(-1, 1)\n",
        "y_new = model.predict(X_new)\n",
        "\n",
        "# 그래프 그리기\n",
        "plt.scatter(X, y, color='red', label='Data Points')\n",
        "plt.plot(X_new, y_new, label='Linear Fit')\n",
        "plt.xlabel('Advertising Cost ($1000)')\n",
        "plt.ylabel('Sales ($1000)')\n",
        "plt.legend()\n",
        "plt.title('Least Squares Method')\n",
        "plt.show()\n"
      ],
      "metadata": {
        "colab": {
          "base_uri": "https://localhost:8080/",
          "height": 472
        },
        "id": "jp-jyhlu09RS",
        "outputId": "5964b6a1-f568-4aa3-c2df-73bedcf78e35"
      },
      "execution_count": null,
      "outputs": [
        {
          "output_type": "display_data",
          "data": {
            "text/plain": [
              "<Figure size 640x480 with 1 Axes>"
            ],
            "image/png": "[encoded data removed]"
          },
          "metadata": {}
        }
      ]
    },
    {
      "cell_type": "code",
      "source": [
        "'''\n",
        "수치적 미분과 적분\n",
        "\n",
        "1. 수치적 미분\n",
        "수치적 미분은 함수의 도함수를 근사적으로 계산하는 방법입니다. 이는 데이터 포인트가 주어졌을 때, 함수의 변화율을 계산하는 데 사용됩니다.\n",
        "\n",
        "실생활 예시: 속도 계산\n",
        "자동차의 위치 데이터를 기반으로 속도를 계산할 때 수치적 미분을 사용할 수 있습니다.\n",
        "'''\n",
        "\n",
        "import numpy as np\n",
        "\n",
        "# 예시 데이터 (시간과 위치)\n",
        "t = np.array([0, 1, 2, 3, 4, 5])\n",
        "x = np.array([0, 3, 7, 12, 18, 25])\n",
        "\n",
        "# 수치적 미분 (중앙 차분법)\n",
        "def numerical_derivative(t, x):\n",
        "    \"\"\"\n",
        "    수치적 미분을 사용하여 함수의 도함수를 계산합니다.\n",
        "\n",
        "    매개변수:\n",
        "    t (ndarray): 시간 데이터\n",
        "    x (ndarray): 위치 데이터\n",
        "\n",
        "    반환값:\n",
        "    ndarray: 속도 데이터\n",
        "    \"\"\"\n",
        "    dt = np.diff(t)  # 시간 간격\n",
        "    dx = np.diff(x)  # 위치 변화\n",
        "    v = dx / dt  # 속도 계산\n",
        "    return np.concatenate(([0], v))  # 초기 속도는 0으로 설정\n",
        "\n",
        "# 속도 계산\n",
        "v = numerical_derivative(t, x)\n",
        "print(f\"속도: {v}\")\n"
      ],
      "metadata": {
        "colab": {
          "base_uri": "https://localhost:8080/"
        },
        "id": "2UpNsjU909Ui",
        "outputId": "01695f6c-792d-4826-b194-4d958bf40636"
      },
      "execution_count": null,
      "outputs": [
        {
          "output_type": "stream",
          "name": "stdout",
          "text": [
            "속도: [0. 3. 4. 5. 6. 7.]\n"
          ]
        }
      ]
    },
    {
      "cell_type": "code",
      "source": [
        "'''\n",
        "2. 수치적 적분\n",
        "수치적 적분은 함수의 적분을 근사적으로 계산하는 방법입니다. 여기서는 사다리꼴 법과 심프슨 법을 다룹니다.\n",
        "\n",
        "실생활 예시: 거리 계산\n",
        "자동차의 속도 데이터를 기반으로 이동 거리를 계산할 때 수치적 적분을 사용할 수 있습니다.\n",
        "'''\n",
        "\n",
        "# 사다리꼴 법을 사용한 수치적 적분\n",
        "def trapezoidal_rule(t, v):\n",
        "    \"\"\"\n",
        "    사다리꼴 법을 사용하여 함수의 적분을 계산합니다.\n",
        "\n",
        "    매개변수:\n",
        "    t (ndarray): 시간 데이터\n",
        "    v (ndarray): 속도 데이터\n",
        "\n",
        "    반환값:\n",
        "    float: 이동 거리\n",
        "    \"\"\"\n",
        "    dt = np.diff(t)  # 시간 간격\n",
        "    integral = np.sum((v[:-1] + v[1:]) / 2 * dt)  # 사다리꼴 법 적용\n",
        "    return integral\n",
        "\n",
        "# 이동 거리 계산\n",
        "distance = trapezoidal_rule(t, v)\n",
        "print(f\"이동 거리: {distance}\")\n"
      ],
      "metadata": {
        "colab": {
          "base_uri": "https://localhost:8080/"
        },
        "id": "k53L74uV09Y9",
        "outputId": "95d10450-f527-4881-8ddc-af11f4a2c440"
      },
      "execution_count": null,
      "outputs": [
        {
          "output_type": "stream",
          "name": "stdout",
          "text": [
            "이동 거리: 21.5\n"
          ]
        }
      ]
    },
    {
      "cell_type": "code",
      "source": [
        "'''\n",
        "상미분 방정식의 수치해법\n",
        "\n",
        "1. 오일러 방법\n",
        "오일러 방법은 상미분 방정식을 푸는 가장 간단한 수치해법입니다. 이는 초기값 문제를 해결하는 데 사용됩니다.\n",
        "\n",
        "실생활 예시: 인구 성장 모델\n",
        "인구 성장 모델에서 인구의 변화를 예측할 때 오일러 방법을 사용할 수 있습니다.\n",
        "'''\n",
        "\n",
        "import numpy as np\n",
        "import matplotlib.pyplot as plt\n",
        "\n",
        "# 오일러 방법을 사용한 상미분 방정식 풀이\n",
        "def euler_method(f, y0, t):\n",
        "    \"\"\"\n",
        "    오일러 방법을 사용하여 상미분 방정식을 풉니다.\n",
        "\n",
        "    매개변수:\n",
        "    f (function): 미분 방정식\n",
        "    y0 (float): 초기값\n",
        "    t (ndarray): 시간 데이터\n",
        "\n",
        "    반환값:\n",
        "    ndarray: 해 데이터\n",
        "    \"\"\"\n",
        "    y = np.zeros(len(t))\n",
        "    y[0] = y0\n",
        "    for i in range(1, len(t)):\n",
        "        dt = t[i] - t[i - 1]\n",
        "        y[i] = y[i - 1] + f(y[i - 1], t[i - 1]) * dt\n",
        "    return y\n",
        "\n",
        "# 예시 미분 방정식: dy/dt = y\n",
        "def f(y, t):\n",
        "    return y\n",
        "\n",
        "# 초기값 및 시간 데이터\n",
        "y0 = 1\n",
        "t = np.linspace(0, 5, 100)\n",
        "\n",
        "# 오일러 방법을 사용하여 해를 구합니다.\n",
        "y = euler_method(f, y0, t)\n",
        "\n",
        "# 그래프 그리기\n",
        "plt.plot(t, y, label='Euler Method')\n",
        "plt.xlabel('Time')\n",
        "plt.ylabel('Population')\n",
        "plt.legend()\n",
        "plt.title('Euler Method for ODE')\n",
        "plt.show()\n"
      ],
      "metadata": {
        "colab": {
          "base_uri": "https://localhost:8080/",
          "height": 472
        },
        "id": "IjKcjUBC09fA",
        "outputId": "d1ddd839-842b-4ccb-b687-289e1aae2ce7"
      },
      "execution_count": null,
      "outputs": [
        {
          "output_type": "display_data",
          "data": {
            "text/plain": [
              "<Figure size 640x480 with 1 Axes>"
            ],
            "image/png": "[encoded data removed]"
          },
          "metadata": {}
        }
      ]
    },
    {
      "cell_type": "code",
      "source": [
        "'''\n",
        "2. 룽게-쿠타 방법\n",
        "룽게-쿠타 방법은 상미분 방정식을 푸는 더 정교한 수치해법입니다. 이는 오일러 방법보다 더 높은 정확도를 제공합니다.\n",
        "\n",
        "실생활 예시: 천체 운동 시뮬레이션\n",
        "천체 운동 시뮬레이션에서 행성의 궤도를 계산할 때 룽게-쿠타 방법을 사용할 수 있습니다.\n",
        "'''\n",
        "\n",
        "import numpy as np\n",
        "import matplotlib.pyplot as plt\n",
        "\n",
        "# 룽게-쿠타 방법 (4차)를 사용한 상미분 방정식 풀이\n",
        "def runge_kutta_4(f, y0, t):\n",
        "    \"\"\"\n",
        "    룽게-쿠타 방법 (4차)를 사용하여 상미분 방정식을 풉니다.\n",
        "\n",
        "    매개변수:\n",
        "    f (function): 미분 방정식\n",
        "    y0 (float): 초기값\n",
        "    t (ndarray): 시간 데이터\n",
        "\n",
        "    반환값:\n",
        "    ndarray: 해 데이터\n",
        "    \"\"\"\n",
        "    y = np.zeros(len(t))\n",
        "    y[0] = y0\n",
        "    for i in range(1, len(t)):\n",
        "        dt = t[i] - t[i - 1]\n",
        "        k1 = f(y[i - 1], t[i - 1])\n",
        "        k2 = f(y[i - 1] + 0.5 * k1 * dt, t[i - 1] + 0.5 * dt)\n",
        "        k3 = f(y[i - 1] + 0.5 * k2 * dt, t[i - 1] + 0.5 * dt)\n",
        "        k4 = f(y[i - 1] + k3 * dt, t[i - 1] + dt)\n",
        "        y[i] = y[i - 1] + (k1 + 2 * k2 + 2 * k3 + k4) * dt / 6\n",
        "    return y\n",
        "\n",
        "# 예시 미분 방정식: dy/dt = y\n",
        "def f(y, t):\n",
        "    return y\n",
        "\n",
        "# 초기값 및 시간 데이터\n",
        "y0 = 1\n",
        "t = np.linspace(0, 5, 100)\n",
        "\n",
        "# 룽게-쿠타 방법을 사용하여 해를 구합니다.\n",
        "y_rk = runge_kutta_4(f, y0, t)\n",
        "\n",
        "# 그래프 그리기\n",
        "plt.plot(t, y_rk, label='Runge-Kutta Method')\n",
        "plt.xlabel('Time')\n",
        "plt.ylabel('Population')\n",
        "plt.legend()\n",
        "plt.title('Runge-Kutta Method for ODE')\n",
        "plt.show()\n"
      ],
      "metadata": {
        "colab": {
          "base_uri": "https://localhost:8080/",
          "height": 472
        },
        "id": "gpwGBqOE09bN",
        "outputId": "ea7bb26e-0e87-4eda-e31c-ef58687f314b"
      },
      "execution_count": null,
      "outputs": [
        {
          "output_type": "display_data",
          "data": {
            "text/plain": [
              "<Figure size 640x480 with 1 Axes>"
            ],
            "image/png": "[encoded data removed]"
          },
          "metadata": {}
        }
      ]
    },
    {
      "cell_type": "code",
      "source": [
        "'''\n",
        "편미분 방정식의 수치해법\n",
        "\n",
        "1. 유한 차분법\n",
        "유한 차분법은 편미분 방정식을 푸는 수치해법 중 하나로, 연속적인 미분을 차분으로 근사화하여 해를 구합니다.\n",
        "\n",
        "실생활 예시: 열전도 문제\n",
        "열전도 문제에서 온도의 시간에 따른 변화를 계산할 때 유한 차분법을 사용할 수 있습니다.\n",
        "'''\n",
        "import numpy as np\n",
        "import matplotlib.pyplot as plt\n",
        "\n",
        "# 유한 차분법을 사용한 열전도 방정식 풀이\n",
        "def heat_equation_fd(nx, nt, alpha, L, T):\n",
        "    \"\"\"\n",
        "    유한 차분법을 사용하여 열전도 방정식을 풉니다.\n",
        "\n",
        "    매개변수:\n",
        "    nx (int): 공간 격자점 수\n",
        "    nt (int): 시간 격자점 수\n",
        "    alpha (float): 열 확산 계수\n",
        "    L (float): 막대의 길이\n",
        "    T (float): 총 시간\n",
        "\n",
        "    반환값:\n",
        "    tuple: (온도 분포, 시간 간격)\n",
        "    \"\"\"\n",
        "    dx = L / (nx - 1)\n",
        "    dt = T / (nt - 1)\n",
        "    u = np.zeros((nt, nx))\n",
        "\n",
        "    # 초기 조건: 중앙에서 높은 온도\n",
        "    u[0, int(nx / 2)] = 100\n",
        "\n",
        "    for n in range(0, nt - 1):\n",
        "        for i in range(1, nx - 1):\n",
        "            u[n + 1, i] = u[n, i] + alpha * dt / dx**2 * (u[n, i + 1] - 2 * u[n, i] + u[n, i - 1])\n",
        "\n",
        "    return u, dt\n",
        "\n",
        "# 매개변수 설정\n",
        "nx = 51\n",
        "nt = 100\n",
        "alpha = 0.01\n",
        "L = 10.0\n",
        "T = 2.0\n",
        "\n",
        "# 유한 차분법을 사용하여 해를 구합니다.\n",
        "u, dt = heat_equation_fd(nx, nt, alpha, L, T)\n",
        "\n",
        "# 그래프 그리기\n",
        "x = np.linspace(0, L, nx)\n",
        "for n in range(0, nt, 10):\n",
        "    plt.plot(x, u[n], label=f't={n*dt:.2f}')\n",
        "plt.xlabel('Position')\n",
        "plt.ylabel('Temperature')\n",
        "plt.legend()\n",
        "plt.title('Heat Equation (Finite Difference Method)')\n",
        "plt.show()\n"
      ],
      "metadata": {
        "colab": {
          "base_uri": "https://localhost:8080/",
          "height": 472
        },
        "id": "7ZqPQumt7qpO",
        "outputId": "3f38acb0-9e32-4daa-e8cc-309255796e86"
      },
      "execution_count": null,
      "outputs": [
        {
          "output_type": "display_data",
          "data": {
            "text/plain": [
              "<Figure size 640x480 with 1 Axes>"
            ],
            "image/png": "[encoded data removed]"
          },
          "metadata": {}
        }
      ]
    },
    {
      "cell_type": "code",
      "source": [
        "'''\n",
        "편미분 방정식의 수치해법 (Numerical Methods for Partial Differential Equations)\n",
        "편미분 방정식(Partial Differential Equations, PDE)은 여러 개의 독립 변수에 대한 함수와 그 함수의 편미분들 사이의 관계를 나타내는 방정식입니다. 주로 물리학, 공학, 금융 등 다양한 분야에서 사용됩니다. 예를 들어, 열전도 방정식, 파동 방정식, 라플라스 방정식 등이 있습니다.\n",
        "\n",
        "유한 요소법 (Finite Element Method, FEM)\n",
        "유한 요소법은 편미분 방정식을 푸는 강력한 수치해법 중 하나입니다. 이는 복잡한 기하학적 형태와 경계 조건을 가진 문제를 해결하는 데 특히 유용합니다. 유한 요소법은 문제를 작은 부분(요소)으로 나누고, 각 요소에서의 근사해를 구한 후 이를 결합하여 전체 문제의 해를 구합니다.\n",
        "\n",
        "실생활 예시: 구조 해석\n",
        "건축 구조물의 응력과 변형을 분석할 때 유한 요소법을 사용할 수 있습니다.\n",
        "\n",
        "유한 요소법의 단계\n",
        "문제 정의: 편미분 방정식과 경계 조건을 정의합니다.\n",
        "메쉬 생성: 문제 영역을 작은 요소로 나눕니다.\n",
        "요소 방정식 생성: 각 요소에 대해 방정식을 설정합니다.\n",
        "전체 방정식 조립: 요소 방정식을 결합하여 전체 문제의 방정식을 만듭니다.\n",
        "경계 조건 적용: 경계 조건을 방정식에 적용합니다.\n",
        "해 계산: 방정식을 풀어 해를 구합니다.\n",
        "'''\n",
        "\n",
        "import numpy as np\n",
        "import matplotlib.pyplot as plt\n",
        "from scipy.sparse import diags\n",
        "from scipy.sparse.linalg import spsolve\n",
        "\n",
        "# 유한 요소법을 사용한 1차원 열전도 방정식 풀이\n",
        "def fem_1d_heat_conduction(nx, alpha, L, T, u0, uL):\n",
        "    \"\"\"\n",
        "    유한 요소법을 사용하여 1차원 열전도 방정식을 풉니다.\n",
        "\n",
        "    매개변수:\n",
        "    nx (int): 공간 격자점 수\n",
        "    alpha (float): 열 확산 계수\n",
        "    L (float): 막대의 길이\n",
        "    T (float): 총 시간\n",
        "    u0 (float): 왼쪽 경계 조건\n",
        "    uL (float): 오른쪽 경계 조건\n",
        "\n",
        "    반환값:\n",
        "    ndarray: 온도 분포\n",
        "    \"\"\"\n",
        "    dx = L / (nx - 1)\n",
        "    x = np.linspace(0, L, nx)\n",
        "\n",
        "    # 초기 조건 설정\n",
        "    u = np.zeros(nx)\n",
        "    u[0] = u0\n",
        "    u[-1] = uL\n",
        "\n",
        "    # 요소 방정식 생성\n",
        "    main_diag = (2 + 2 * alpha * dx**2) * np.ones(nx)\n",
        "    off_diag = -1 * np.ones(nx - 1)\n",
        "    A = diags([main_diag, off_diag, off_diag], [0, -1, 1]).toarray()\n",
        "\n",
        "    # 경계 조건 적용\n",
        "    A[0, 0] = 1\n",
        "    A[0, 1] = 0\n",
        "    A[-1, -1] = 1\n",
        "    A[-1, -2] = 0\n",
        "\n",
        "    # 전체 방정식 조립 및 해 계산\n",
        "    b = np.zeros(nx)\n",
        "    b[0] = u0\n",
        "    b[-1] = uL\n",
        "    u = spsolve(A, b)\n",
        "\n",
        "    return x, u\n",
        "\n",
        "# 매개변수 설정\n",
        "nx = 51\n",
        "alpha = 0.01\n",
        "L = 10.0\n",
        "T = 2.0\n",
        "u0 = 100\n",
        "uL = 50\n",
        "\n",
        "# 유한 요소법을 사용하여 해를 구합니다.\n",
        "x, u = fem_1d_heat_conduction(nx, alpha, L, T, u0, uL)\n",
        "\n",
        "# 그래프 그리기\n",
        "plt.plot(x, u, label='FEM Solution')\n",
        "plt.xlabel('Position')\n",
        "plt.ylabel('Temperature')\n",
        "plt.legend()\n",
        "plt.title('1D Heat Conduction (Finite Element Method)')\n",
        "plt.show()\n"
      ],
      "metadata": {
        "colab": {
          "base_uri": "https://localhost:8080/",
          "height": 509
        },
        "id": "47k8wl0H7qsk",
        "outputId": "de09c5bb-b646-40a2-eaa0-d72fc7b13fab"
      },
      "execution_count": null,
      "outputs": [
        {
          "output_type": "stream",
          "name": "stderr",
          "text": [
            "<ipython-input-62-9dc1e2a5987d>:64: SparseEfficiencyWarning: spsolve requires A be CSC or CSR matrix format\n",
            "  u = spsolve(A, b)\n"
          ]
        },
        {
          "output_type": "display_data",
          "data": {
            "text/plain": [
              "<Figure size 640x480 with 1 Axes>"
            ],
            "image/png": "[encoded data removed]"
          },
          "metadata": {}
        }
      ]
    },
    {
      "cell_type": "code",
      "source": [],
      "metadata": {
        "id": "TetHglMJ7IOe"
      },
      "execution_count": null,
      "outputs": []
    },
    {
      "cell_type": "code",
      "source": [],
      "metadata": {
        "id": "r7niQftH7Idt"
      },
      "execution_count": null,
      "outputs": []
    }
  ]
}