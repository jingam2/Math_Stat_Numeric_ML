{
  "nbformat": 4,
  "nbformat_minor": 0,
  "metadata": {
    "colab": {
      "provenance": [],
      "authorship_tag": "ABX9TyNMDjEyCBe+edDfR56sywHv"
    },
    "kernelspec": {
      "name": "python3",
      "display_name": "Python 3"
    },
    "language_info": {
      "name": "python"
    }
  },
  "cells": [
    {
      "cell_type": "code",
      "source": [
        "'''\n",
        "\n",
        "벡터와 행렬\n",
        "행렬 연산\n",
        "선형 변환\n",
        "\n",
        "파이썬을 이용한 선형대수학 기초\n",
        "\n",
        "NumPy 라이브러리 소개\n",
        "벡터와 행렬 생성 및 연산\n",
        "선형 방정식 풀이\n",
        "\n",
        "고유값과 고유벡터\n",
        "특이값 분해 (SVD)\n",
        "행렬 분해 기법\n",
        "\n",
        "데이터 과학에서의 활용\n",
        "\n",
        "데이터 전처리\n",
        "표준화와 정규화\n",
        "차원 축소 (PCA)\n",
        "\n",
        "머신러닝 알고리즘\n",
        "선형 회귀\n",
        "군집화 (K-means)\n",
        "\n",
        "추천 시스템\n",
        "행렬 분해를 통한 추천\n",
        "\n",
        "실생활에서의 활용\n",
        "\n",
        "이미지 처리\n",
        "이미지 압축\n",
        "필터링과 변환\n",
        "\n",
        "신호 처리\n",
        "오디오 신호 분석\n",
        "주파수 분석\n",
        "\n",
        "컴퓨터 그래픽스\n",
        "3D 변환과 렌더링\n",
        "애니메이션\n",
        "'''"
      ],
      "metadata": {
        "id": "JQHPa_57h9if"
      },
      "execution_count": null,
      "outputs": []
    },
    {
      "cell_type": "code",
      "execution_count": null,
      "metadata": {
        "id": "kCCdCBQ0ykBK",
        "colab": {
          "base_uri": "https://localhost:8080/",
          "height": 90
        },
        "outputId": "49a4ec4c-8bec-4844-922b-ccda3480d11a"
      },
      "outputs": [
        {
          "output_type": "execute_result",
          "data": {
            "text/plain": [
              "'\\n벡터와 행렬\\n벡터와 행렬은 선형대수학의 기본 요소입니다. 벡터는 크기와 방향을 가지는 물리량을 나타내며, 행렬은 이러한 벡터를 배열한 것입니다. \\n벡터와 행렬은 데이터 과학에서 데이터를 표현하고 조작하는 데 필수적입니다.\\n\\n행렬 연산\\n행렬 연산에는 덧셈, 뺄셈, 곱셈 등이 포함됩니다.\\n 이러한 연산은 데이터 변환, 회귀 분석, 이미지 처리 등 다양한 데이터 과학 응용 분야에서 사용됩니다.\\n\\n선형 변환\\n선형 변환은 벡터 공간을 다른 벡터 공간으로 변환하는 함수입니다. \\n이는 데이터 변환, 차원 축소, 이미지 변환 등에서 중요한 역할을 합니다.\\n'"
            ],
            "application/vnd.google.colaboratory.intrinsic+json": {
              "type": "string"
            }
          },
          "metadata": {},
          "execution_count": 2
        }
      ],
      "source": [
        "'''\n",
        "벡터와 행렬\n",
        "벡터와 행렬은 선형대수학의 기본 요소입니다. 벡터는 크기와 방향을 가지는 물리량을 나타내며, 행렬은 이러한 벡터를 배열한 것입니다.\n",
        "벡터와 행렬은 데이터 과학에서 데이터를 표현하고 조작하는 데 필수적입니다.\n",
        "\n",
        "행렬 연산\n",
        "행렬 연산에는 덧셈, 뺄셈, 곱셈 등이 포함됩니다.\n",
        " 이러한 연산은 데이터 변환, 회귀 분석, 이미지 처리 등 다양한 데이터 과학 응용 분야에서 사용됩니다.\n",
        "\n",
        "선형 변환\n",
        "선형 변환은 벡터 공간을 다른 벡터 공간으로 변환하는 함수입니다.\n",
        "이는 데이터 변환, 차원 축소, 이미지 변환 등에서 중요한 역할을 합니다.\n",
        "'''"
      ]
    },
    {
      "cell_type": "code",
      "source": [
        "'''\n",
        "NumPy는 파이썬에서 선형대수학을 수행하기 위한 유용한 라이브러리입니다.\n",
        "벡터와 행렬을 효율적으로 생성하고 연산할 수 있는 다양한 기능을 제공합니다.\n",
        "'''\n",
        "\n",
        "import numpy as np  # NumPy 라이브러리를 np로\n",
        "\n",
        "# 벡터 생성\n",
        "vector = np.array([1, 2, 3])  # 1차원 배열로 벡터 생성\n",
        "print(\"Vector:\", vector)\n",
        "\n",
        "# 행렬 생성\n",
        "matrix = np.array([[1, 2], [3, 4]])  # 2차원 배열로 행렬 생성\n",
        "print(\"Matrix:\\n\", matrix)"
      ],
      "metadata": {
        "colab": {
          "base_uri": "https://localhost:8080/"
        },
        "id": "Od0ZlGbjdz3_",
        "outputId": "a3460f4d-471d-4aaa-bb8b-2564a7cf0986"
      },
      "execution_count": null,
      "outputs": [
        {
          "output_type": "stream",
          "name": "stdout",
          "text": [
            "Vector: [1 2 3]\n",
            "Matrix:\n",
            " [[1 2]\n",
            " [3 4]]\n"
          ]
        }
      ]
    },
    {
      "cell_type": "code",
      "source": [
        "# 벡터 덧셈\n",
        "vector1 = np.array([1, 2, 3])\n",
        "vector2 = np.array([4, 5, 6])\n",
        "vector_sum = vector1 + vector2  # 벡터 요소별 덧셈\n",
        "print(\"Vector Sum:\", vector_sum)\n",
        "\n",
        "# 행렬 곱셈\n",
        "matrix1 = np.array([[1, 2], [3, 4]])\n",
        "matrix2 = np.array([[5, 6], [7, 8]])\n",
        "matrix_product = np.dot(matrix1, matrix2)  # 행렬 곱셈\n",
        "print(\"Matrix Product:\\n\", matrix_product)\n"
      ],
      "metadata": {
        "colab": {
          "base_uri": "https://localhost:8080/"
        },
        "id": "DdDBHxjcdz7b",
        "outputId": "13dde2d0-714d-45a0-a2ae-84f9241b3bf9"
      },
      "execution_count": null,
      "outputs": [
        {
          "output_type": "stream",
          "name": "stdout",
          "text": [
            "Vector Sum: [5 7 9]\n",
            "Matrix Product:\n",
            " [[19 22]\n",
            " [43 50]]\n"
          ]
        }
      ]
    },
    {
      "cell_type": "code",
      "source": [
        "# 선형 방정식 Ax = b 풀이\n",
        "A = np.array([[3, 1], [1, 2]])  # 계수 행렬\n",
        "b = np.array([9, 8])  # 상수 벡터\n",
        "x = np.linalg.solve(A, b)  # Ax = b를 만족하는 x를 계산\n",
        "print(\"Solution x:\", x)"
      ],
      "metadata": {
        "colab": {
          "base_uri": "https://localhost:8080/"
        },
        "id": "L_GeRcNBdz-U",
        "outputId": "92737735-a0a2-4360-a014-034ca8c6505e"
      },
      "execution_count": null,
      "outputs": [
        {
          "output_type": "stream",
          "name": "stdout",
          "text": [
            "Solution x: [2. 3.]\n"
          ]
        }
      ]
    },
    {
      "cell_type": "code",
      "source": [
        "'''\n",
        "고유값과 고유벡터\n",
        "고유값과 고유벡터는 행렬의 중요한 특성 중 하나로, 데이터 과학에서 차원 축소와 데이터 분석에 사용됩니다.\n",
        "고유값 분해는 데이터의 주요 성분을 찾는 데 유용합니다.\n",
        "\n",
        "원리와 단계:\n",
        "\n",
        "고유값과 고유벡터 계산: 행렬의 고유값과 고유벡터를 계산하여 데이터의 주요 방향을 찾습니다.\n",
        "데이터 분석: 고유값과 고유벡터를 사용하여 데이터의 구조와 패턴을 분석합니다.\n",
        "'''\n",
        "\n",
        "import numpy as np  # NumPy 라이브러리를 np로\n",
        "\n",
        "# 행렬 생성\n",
        "matrix = np.array([[4, -2], [1, 1]])  # 2x2 행렬 생성\n",
        "\n",
        "# 고유값과 고유벡터 계산\n",
        "eigenvalues, eigenvectors = np.linalg.eig(matrix)  # 고유값과 고유벡터 계산\n",
        "print(\"Eigenvalues:\", eigenvalues)  # 고유값 출력\n",
        "print(\"Eigenvectors:\\n\", eigenvectors)  # 고유벡터 출력"
      ],
      "metadata": {
        "id": "SzvriqpZd0BS"
      },
      "execution_count": null,
      "outputs": []
    },
    {
      "cell_type": "code",
      "source": [
        "# 고유값 고유벡터 직접구현\n",
        "\n",
        "import numpy as np\n",
        "\n",
        "def eigen_decomposition(matrix):\n",
        "    \"\"\"\n",
        "    행렬의 고유값과 고유벡터를 계산하는 함수\n",
        "    \"\"\"\n",
        "    n = matrix.shape[0]  # 행렬의 크기 확인\n",
        "    eigenvalues = np.zeros(n)  # 고유값을 저장할 배열 초기화\n",
        "    eigenvectors = np.zeros((n, n))  # 고유벡터를 저장할 배열 초기화\n",
        "\n",
        "    for i in range(n):\n",
        "        eigenvalues[i] = matrix[i, i]  # 고유값 계산 (단순한 예제, 실제로는 더 복잡한 알고리즘 사용)\n",
        "        eigenvectors[:, i] = matrix[:, i] / np.linalg.norm(matrix[:, i])  # 고유벡터 계산 (단순한 예제)\n",
        "\n",
        "    return eigenvalues, eigenvectors\n",
        "\n",
        "matrix = np.array([[4, -2], [1, 1]])  # 예제 행렬\n",
        "eigenvalues, eigenvectors = eigen_decomposition(matrix)  # 고유값과 고유벡터 계산\n",
        "print(\"Eigenvalues:\", eigenvalues)  # 고유값 출력\n",
        "print(\"Eigenvectors:\\n\", eigenvectors)  # 고유벡터 출력\n"
      ],
      "metadata": {
        "colab": {
          "base_uri": "https://localhost:8080/"
        },
        "id": "0FRN-vGHjN_p",
        "outputId": "9fa1ce4c-50ff-41ef-be15-bcd64f4dcc77"
      },
      "execution_count": null,
      "outputs": [
        {
          "output_type": "stream",
          "name": "stdout",
          "text": [
            "Eigenvalues: [4. 1.]\n",
            "Eigenvectors:\n",
            " [[ 0.9701425  -0.89442719]\n",
            " [ 0.24253563  0.4472136 ]]\n"
          ]
        }
      ]
    },
    {
      "cell_type": "code",
      "source": [
        "'''\n",
        "특이값 분해 (SVD)\n",
        "\n",
        "특이값 분해(SVD)는 행렬을 세 개의 행렬로 분해하는 기법으로, 데이터 압축과 노이즈 제거에 사용됩니다.\n",
        "SVD는 추천 시스템에서도 중요한 역할을 합니다.\n",
        "'''\n",
        "# 행렬 생성\n",
        "matrix = np.array([[1, 2], [3, 4], [5, 6]])  # 3x2 행렬 생성\n",
        "\n",
        "# 특이값 분해 수행\n",
        "U, S, Vt = np.linalg.svd(matrix)  # SVD 수행\n",
        "print(\"U matrix:\\n\", U)  # U 행렬 출력\n",
        "print(\"Singular values:\", S)  # 특이값 출력\n",
        "print(\"Vt matrix:\\n\", Vt)  # Vt 행렬 출력\n"
      ],
      "metadata": {
        "id": "R2Ia2qmticCI"
      },
      "execution_count": null,
      "outputs": []
    },
    {
      "cell_type": "code",
      "source": [
        "# 특이값 분해 SVD 직접 구현\n",
        "\n",
        "import numpy as np\n",
        "\n",
        "def svd_decomposition(matrix):\n",
        "    \"\"\"\n",
        "    행렬의 특이값 분해를 계산하는 함수\n",
        "    \"\"\"\n",
        "    m, n = matrix.shape  # 행렬의 크기 확인\n",
        "    S = np.zeros(min(m, n))  # 특이값을 저장할 배열 초기화\n",
        "    U = np.zeros((m, m))  # 좌측 특이벡터를 저장할 배열 초기화\n",
        "    Vt = np.zeros((n, n))  # 전치된 우측 특이벡터를 저장할 배열 초기화\n",
        "\n",
        "    for i in range(min(m, n)):\n",
        "        S[i] = np.linalg.norm(matrix[:, i])  # 특이값 계산 (단순한 예제)\n",
        "        U[:, i] = matrix[:, i] / S[i]  # 좌측 특이벡터 계산 (단순한 예제)\n",
        "        Vt[i, :] = matrix[i, :] / S[i]  # 전치된 우측 특이벡터 계산 (단순한 예제)\n",
        "\n",
        "    return U, S, Vt\n",
        "\n",
        "matrix = np.array([[1, 2], [3, 4], [5, 6]])  # 예제 행렬\n",
        "U, S, Vt = svd_decomposition(matrix)  # 특이값 분해 계산\n",
        "print(\"U matrix:\\n\", U)  # U 행렬 출력\n",
        "print(\"Singular values:\", S)  # 특이값 출력\n",
        "print(\"Vt matrix:\\n\", Vt)  # Vt 행렬 출력"
      ],
      "metadata": {
        "colab": {
          "base_uri": "https://localhost:8080/"
        },
        "id": "5jkBU7hwisj4",
        "outputId": "f8d3e9db-c93c-44c2-ea6a-047eeb2a157f"
      },
      "execution_count": null,
      "outputs": [
        {
          "output_type": "stream",
          "name": "stdout",
          "text": [
            "U matrix:\n",
            " [[0.16903085 0.26726124 0.        ]\n",
            " [0.50709255 0.53452248 0.        ]\n",
            " [0.84515425 0.80178373 0.        ]]\n",
            "Singular values: [5.91607978 7.48331477]\n",
            "Vt matrix:\n",
            " [[0.16903085 0.3380617 ]\n",
            " [0.40089186 0.53452248]]\n"
          ]
        }
      ]
    },
    {
      "cell_type": "code",
      "source": [
        "'''\n",
        "행렬 분해 기법\n",
        "\n",
        "행렬 분해는 행렬을 더 작은 행렬로 분해하여 계산을 단순화하는 기법입니다.\n",
        "이는 데이터 분석과 머신러닝 모델에서 자주 사용됩니다.\n",
        "'''\n",
        "\n",
        "# LU 분해 예제\n",
        "from scipy.linalg import lu  # LU 분해를 위한 scipy 라이브러리\n",
        "\n",
        "# 행렬 생성\n",
        "matrix = np.array([[4, 3], [6, 3]])  # 2x2 행렬 생성\n",
        "\n",
        "# LU 분해 수행\n",
        "P, L, U = lu(matrix)  # LU 분해 수행\n",
        "print(\"P matrix:\\n\", P)  # P 행렬 출력\n",
        "print(\"L matrix:\\n\", L)  # L 행렬 출력\n",
        "print(\"U matrix:\\n\", U)  # U 행렬 출력"
      ],
      "metadata": {
        "id": "QUrx7qJdijPQ"
      },
      "execution_count": null,
      "outputs": []
    },
    {
      "cell_type": "code",
      "source": [
        "# LU분해 직접 구현\n",
        "\n",
        "import numpy as np\n",
        "\n",
        "def lu_decomposition(matrix):\n",
        "    \"\"\"\n",
        "    행렬의 LU 분해를 계산하는 함수\n",
        "    \"\"\"\n",
        "    n = matrix.shape[0]  # 행렬의 크기 확인\n",
        "    L = np.zeros((n, n))  # 하삼각 행렬을 저장할 배열 초기화\n",
        "    U = np.zeros((n, n))  # 상삼각 행렬을 저장할 배열 초기화\n",
        "\n",
        "    for i in range(n):\n",
        "        for k in range(i, n):\n",
        "            U[i, k] = matrix[i, k] - sum(L[i, j] * U[j, k] for j in range(i))  # 상삼각 행렬 U 계산\n",
        "        for k in range(i, n):\n",
        "            if i == k:\n",
        "                L[i, i] = 1  # 대각 원소는 1\n",
        "            else:\n",
        "                L[k, i] = (matrix[k, i] - sum(L[k, j] * U[j, i] for j in range(i))) / U[i, i]  # 하삼각 행렬 L 계산\n",
        "\n",
        "    return L, U\n",
        "\n",
        "matrix = np.array([[4, 3], [6, 3]])  # 예제 행렬\n",
        "L, U = lu_decomposition(matrix)  # LU 분해 계산\n",
        "print(\"L matrix:\\n\", L)  # L 행렬 출력\n",
        "print(\"U matrix:\\n\", U)  # U 행렬 출력"
      ],
      "metadata": {
        "colab": {
          "base_uri": "https://localhost:8080/"
        },
        "id": "TiXeuSeRkOCh",
        "outputId": "8ae87eb2-3f2f-493e-8af9-d7d80c0d7b00"
      },
      "execution_count": null,
      "outputs": [
        {
          "output_type": "stream",
          "name": "stdout",
          "text": [
            "L matrix:\n",
            " [[1.  0. ]\n",
            " [1.5 1. ]]\n",
            "U matrix:\n",
            " [[ 4.   3. ]\n",
            " [ 0.  -1.5]]\n"
          ]
        }
      ]
    },
    {
      "cell_type": "code",
      "source": [
        "'''\n",
        "데이터 과학에서의 활용\n",
        "\n",
        "데이터 전처리\n",
        "데이터 전처리는 데이터 분석의 첫 단계로, 데이터를 정리하고 변환하는 과정입니다.\n",
        "표준화와 정규화는 데이터의 스케일을 맞추는 중요한 기법입니다.\n",
        "\n",
        "원리와 단계:\n",
        "\n",
        "표준화: 데이터의 평균을 0, 표준편차를 1로 맞추어 스케일을 조정합니다.\n",
        "정규화: 데이터의 값을 0과 1 사이로 변환하여 스케일을 조정합니다.\n",
        "\n",
        "'''\n",
        "# 표준화 ( 실제로는 모듈씀 )\n",
        "\n",
        "import numpy as np\n",
        "\n",
        "def standardize(X):\n",
        "    \"\"\"\n",
        "    데이터를 표준화하는 함수 (평균을 0, 표준편차를 1로 맞춤)\n",
        "\n",
        "    Args:\n",
        "    X (np.ndarray): 입력 데이터 행렬 (샘플 수 x 특성 수)\n",
        "\n",
        "    Returns:\n",
        "    X_standardized (np.ndarray): 표준화된 데이터 행렬\n",
        "    \"\"\"\n",
        "    mean = np.mean(X, axis=0)  # 각 특성의 평균 계산\n",
        "    std = np.std(X, axis=0)  # 각 특성의 표준편차 계산\n",
        "    X_standardized = (X - mean) / std  # 표준화: (데이터 - 평균) / 표준편차\n",
        "\n",
        "    return X_standardized\n",
        "\n",
        "# 예제 데이터\n",
        "X = np.array([[1, 2], [3, 4], [5, 6], [7, 8]])\n",
        "\n",
        "# 데이터 표준화\n",
        "X_standardized = standardize(X)\n",
        "print(\"Standardized data:\\n\", X_standardized)  # 표준화된 데이터 출력\n"
      ],
      "metadata": {
        "id": "NhjT-luokdEr"
      },
      "execution_count": null,
      "outputs": []
    },
    {
      "cell_type": "code",
      "source": [
        "# 정규화 구현 ( 실제로는 모듈씀 )\n",
        "\n",
        "import numpy as np\n",
        "\n",
        "def normalize(X):\n",
        "    \"\"\"\n",
        "    데이터를 정규화하는 함수 (값을 0과 1 사이로 변환)\n",
        "\n",
        "    Args:\n",
        "    X (np.ndarray): 입력 데이터 행렬 (샘플 수 x 특성 수)\n",
        "\n",
        "    Returns:\n",
        "    X_normalized (np.ndarray): 정규화된 데이터 행렬\n",
        "    \"\"\"\n",
        "    min_val = np.min(X, axis=0)  # 각 특성의 최소값 계산\n",
        "    max_val = np.max(X, axis=0)  # 각 특성의 최대값 계산\n",
        "    X_normalized = (X - min_val) / (max_val - min_val)  # 정규화: (데이터 - 최소값) / (최대값 - 최소값)\n",
        "\n",
        "    return X_normalized\n",
        "\n",
        "# 예제 데이터\n",
        "X = np.array([[1, 2], [3, 4], [5, 6], [7, 8]])\n",
        "\n",
        "# 데이터 정규화\n",
        "X_normalized = normalize(X)\n",
        "print(\"Normalized data:\\n\", X_normalized)  # 정규화된 데이터 출력\n"
      ],
      "metadata": {
        "id": "nFCx0sjWlv-h"
      },
      "execution_count": null,
      "outputs": []
    },
    {
      "cell_type": "code",
      "source": [
        "'''\n",
        "차원 축소 (PCA)\n",
        "차원 축소는 데이터의 차원을 줄여서 분석을 용이하게 하는 기법입니다.\n",
        "주성분 분석(PCA)은 가장 널리 사용되는 차원 축소 방법 중 하나입니다.\n",
        "\n",
        "원리와 단계:\n",
        "\n",
        "PCA 수행: 데이터의 주요 성분을 찾기 위해 주성분 분석을 수행합니다.\n",
        "데이터 축소: 주요 성분을 사용하여 데이터의 차원을 축소합니다.\n",
        "'''\n",
        "\n",
        "# 주성분 분석 구현 ( 실제로는 모듈씀 )\n",
        "\n",
        "import numpy as np\n",
        "\n",
        "def pca(X, num_components):\n",
        "    \"\"\"\n",
        "    주성분 분석(PCA)을 수행하여 데이터의 차원을 축소하는 함수\n",
        "\n",
        "    Args:\n",
        "    X (np.ndarray): 입력 데이터 행렬 (샘플 수 x 특성 수)\n",
        "    num_components (int): 축소할 차원의 수\n",
        "\n",
        "    Returns:\n",
        "    X_reduced (np.ndarray): 축소된 차원의 데이터 행렬\n",
        "    \"\"\"\n",
        "    # 데이터의 평균을 0으로 맞추기 위해 평균을 계산\n",
        "    X_mean = np.mean(X, axis=0)  # 각 특성의 평균 계산\n",
        "    X_centered = X - X_mean  # 데이터의 평균을 0으로 맞춤\n",
        "\n",
        "    # 공분산 행렬 계산\n",
        "    covariance_matrix = np.cov(X_centered, rowvar=False)  # 공분산 행렬 계산\n",
        "\n",
        "    # 공분산 행렬의 고유값과 고유벡터 계산\n",
        "    eigenvalues, eigenvectors = np.linalg.eigh(covariance_matrix)  # 고유값과 고유벡터 계산\n",
        "\n",
        "    # 고유값을 내림차순으로 정렬하고, 그에 맞게 고유벡터도 정렬\n",
        "    sorted_indices = np.argsort(eigenvalues)[::-1]  # 고유값을 내림차순으로 정렬\n",
        "    sorted_eigenvectors = eigenvectors[:, sorted_indices]  # 고유벡터 정렬\n",
        "\n",
        "    # 상위 num_components개의 고유벡터 선택\n",
        "    selected_eigenvectors = sorted_eigenvectors[:, :num_components]  # 상위 고유벡터 선택\n",
        "\n",
        "    # 데이터의 차원을 축소\n",
        "    X_reduced = np.dot(X_centered, selected_eigenvectors)  # 축소된 차원의 데이터 계산\n",
        "\n",
        "    return X_reduced\n",
        "\n",
        "# 예제 데이터\n",
        "X = np.array([[2.5, 2.4], [0.5, 0.7], [2.2, 2.9], [1.9, 2.2], [3.1, 3.0], [2.3, 2.7], [2, 1.6], [1, 1.1], [1.5, 1.6], [1.1, 0.9]])\n",
        "\n",
        "# PCA 수행\n",
        "X_reduced = pca(X, num_components=1)  # 1차원으로 축소\n",
        "print(\"Reduced data:\\n\", X_reduced)  # 축소된 데이터 출력\n"
      ],
      "metadata": {
        "id": "5EeCz49ZkdIY"
      },
      "execution_count": null,
      "outputs": []
    },
    {
      "cell_type": "code",
      "source": [
        "'''\n",
        "머신러닝 알고리즘\n",
        "\n",
        "선형 회귀\n",
        "선형 회귀는 종속 변수와 독립 변수 간의 선형 관계를 모델링하는 기법입니다.\n",
        "이는 예측 모델링에서 자주 사용됩니다.\n",
        "\n",
        "원리와 단계:\n",
        "\n",
        "모델 생성 및 학습: 선형 회귀 모델을 생성하고 데이터를 사용하여 학습합니다.\n",
        "예측 수행: 학습된 모델을 사용하여 새로운 데이터를 예측합니다.\n",
        "'''\n",
        "\n",
        "# 선형회귀 구현 ( 실제로는 모듈씀 )\n",
        "\n",
        "import numpy as np\n",
        "\n",
        "def linear_regression(X, y):\n",
        "    \"\"\"\n",
        "    선형 회귀 모델을 학습하고 예측하는 함수\n",
        "\n",
        "    Args:\n",
        "    X (np.ndarray): 입력 데이터 행렬 (샘플 수 x 특성 수)\n",
        "    y (np.ndarray): 타겟 벡터 (샘플 수)\n",
        "\n",
        "    Returns:\n",
        "    weights (np.ndarray): 학습된 모델의 가중치 벡터\n",
        "    \"\"\"\n",
        "    # X에 절편 항을 추가\n",
        "    X_b = np.c_[np.ones((X.shape[0], 1)), X]  # 절편 항 추가\n",
        "\n",
        "    # 선형 회귀 모델의 가중치 계산 (정규 방정식 사용)\n",
        "    weights = np.linalg.inv(X_b.T.dot(X_b)).dot(X_b.T).dot(y)  # 가중치 계산\n",
        "\n",
        "    return weights\n",
        "\n",
        "def predict(X, weights):\n",
        "    \"\"\"\n",
        "    학습된 선형 회귀 모델을 사용하여 예측하는 함수\n",
        "\n",
        "    Args:\n",
        "    X (np.ndarray): 입력 데이터 행렬 (샘플 수 x 특성 수)\n",
        "    weights (np.ndarray): 학습된 모델의 가중치 벡터\n",
        "\n",
        "    Returns:\n",
        "    y_pred (np.ndarray): 예측된 타겟 벡터\n",
        "    \"\"\"\n",
        "    # X에 절편 항을 추가\n",
        "    X_b = np.c_[np.ones((X.shape[0], 1)), X]  # 절편 항 추가\n",
        "\n",
        "    # 예측 수행\n",
        "    y_pred = X_b.dot(weights)  # 예측 값 계산\n",
        "\n",
        "    return y_pred\n",
        "\n",
        "# 예제 데이터\n",
        "X = np.array([[1], [2], [3], [4], [5]])  # 입력 데이터\n",
        "y = np.array([1.5, 3.5, 3.0, 4.5, 5.5])  # 타겟 값\n",
        "\n",
        "# 선형 회귀 모델 학습\n",
        "weights = linear_regression(X, y)  # 모델 학습\n",
        "print(\"Weights:\", weights)  # 학습된 가중치 출력\n",
        "\n",
        "# 예측 수행\n",
        "X_new = np.array([[6], [7]])  # 새로운 입력 데이터\n",
        "y_pred = predict(X_new, weights)  # 예측 수행\n",
        "print(\"Predictions:\", y_pred)  # 예측 값 출력\n"
      ],
      "metadata": {
        "colab": {
          "base_uri": "https://localhost:8080/"
        },
        "id": "5vQtPZXmkdMS",
        "outputId": "772df4f9-9371-4604-f640-8716d9f87437"
      },
      "execution_count": null,
      "outputs": [
        {
          "output_type": "stream",
          "name": "stdout",
          "text": [
            "Weights: [0.9 0.9]\n",
            "Predictions: [6.3 7.2]\n"
          ]
        }
      ]
    },
    {
      "cell_type": "code",
      "source": [
        "'''\n",
        "군집화 (K-means)\n",
        "K-means 군집화는 데이터를 K개의 군집으로 나누는 비지도 학습 기법입니다. 이는 데이터 분류와 패턴 인식에 사용됩니다.\n",
        "\n",
        "원리와 단계:\n",
        "\n",
        "K-means 군집화 수행: 데이터를 K개의 군집으로 분류합니다.\n",
        "군집 레이블 확인: 각 데이터 포인트가 속한 군집을 확인합니다.\n",
        "'''\n",
        "\n",
        "# 군진화 구현 ( 실제로는 모듈씀 )\n",
        "\n",
        "import numpy as np\n",
        "\n",
        "def kmeans(X, k, max_iters=100):\n",
        "    \"\"\"\n",
        "    K-means 군집화를 수행하는 함수\n",
        "\n",
        "    Args:\n",
        "    X (np.ndarray): 입력 데이터 행렬 (샘플 수 x 특성 수)\n",
        "    k (int): 군집의 수\n",
        "    max_iters (int): 최대 반복 횟수\n",
        "\n",
        "    Returns:\n",
        "    centroids (np.ndarray): 최종 군집 중심\n",
        "    labels (np.ndarray): 각 데이터 포인트의 군집 레이블\n",
        "    \"\"\"\n",
        "    # 랜덤으로 초기 군집 중심 선택\n",
        "    np.random.seed(42)  # 재현성을 위해 시드 설정\n",
        "    initial_indices = np.random.choice(X.shape[0], k, replace=False)  # 초기 군집 중심 인덱스 선택\n",
        "    centroids = X[initial_indices]  # 초기 군집 중심 설정\n",
        "\n",
        "    for _ in range(max_iters):\n",
        "        # 각 데이터 포인트에 대해 가장 가까운 군집 중심 찾기\n",
        "        distances = np.linalg.norm(X[:, np.newaxis] - centroids, axis=2)  # 각 데이터 포인트와 군집 중심 간의 거리 계산\n",
        "        labels = np.argmin(distances, axis=1)  # 가장 가까운 군집 중심의 인덱스 선택\n",
        "\n",
        "        # 새로운 군집 중심 계산\n",
        "        new_centroids = np.array([X[labels == i].mean(axis=0) for i in range(k)])  # 각 군집의 평균 계산\n",
        "\n",
        "        # 군집 중심이 변화하지 않으면 종료\n",
        "        if np.all(centroids == new_centroids):\n",
        "            break  # 군집 중심이 변화하지 않으면 반복 종료\n",
        "\n",
        "        centroids = new_centroids  # 군집 중심 업데이트\n",
        "\n",
        "    return centroids, labels\n",
        "\n",
        "# 예제 데이터\n",
        "X = np.array([[1, 2], [1, 4], [1, 0], [4, 2], [4, 4], [4, 0]])  # 입력 데이터\n",
        "\n",
        "# K-means 군집화 수행\n",
        "centroids, labels = kmeans(X, k=2)  # 2개의 군집으로 분류\n",
        "print(\"Centroids:\\n\", centroids)  # 최종 군집 중심 출력\n",
        "print(\"Labels:\", labels)  # 각 데이터 포인트의 군집 레이블 출력\n"
      ],
      "metadata": {
        "colab": {
          "base_uri": "https://localhost:8080/"
        },
        "id": "RffLwrg5kdP5",
        "outputId": "42c86cfe-9e2b-473c-9d6c-87a9954b9f14"
      },
      "execution_count": null,
      "outputs": [
        {
          "output_type": "stream",
          "name": "stdout",
          "text": [
            "Centroids:\n",
            " [[2.5 1. ]\n",
            " [2.5 4. ]]\n",
            "Labels: [0 1 0 0 1 0]\n"
          ]
        }
      ]
    },
    {
      "cell_type": "code",
      "source": [
        "# SVD분해를 통한 추천시스템 구현\n",
        "\n",
        "import numpy as np\n",
        "\n",
        "def matrix_factorization(R, K, steps=5000, alpha=0.002, beta=0.02):\n",
        "    \"\"\"\n",
        "    행렬 분해를 사용하여 추천 시스템을 구현하는 함수\n",
        "\n",
        "    Args:\n",
        "    R (np.ndarray): 사용자-아이템 평점 행렬\n",
        "    K (int): 잠재 요인의 수\n",
        "    steps (int): 반복 횟수\n",
        "    alpha (float): 학습률\n",
        "    beta (float): 정규화 파라미터\n",
        "\n",
        "    Returns:\n",
        "    P (np.ndarray): 사용자 잠재 요인 행렬\n",
        "    Q (np.ndarray): 아이템 잠재 요인 행렬\n",
        "    \"\"\"\n",
        "    num_users, num_items = R.shape  # 사용자 수와 아이템 수\n",
        "    P = np.random.rand(num_users, K)  # 사용자 잠재 요인 행렬 초기화\n",
        "    Q = np.random.rand(num_items, K)  # 아이템 잠재 요인 행렬 초기화\n",
        "\n",
        "    for step in range(steps):\n",
        "        for i in range(num_users):\n",
        "            for j in range(num_items):\n",
        "                if R[i, j] > 0:  # 평점이 있는 경우에만 업데이트\n",
        "                    eij = R[i, j] - np.dot(P[i, :], Q[j, :])  # 실제 평점과 예측 평점의 차이\n",
        "                    for k in range(K):\n",
        "                        P[i, k] = P[i, k] + alpha * (2 * eij * Q[j, k] - beta * P[i, k])  # P 업데이트\n",
        "                        Q[j, k] = Q[j, k] + alpha * (2 * eij * P[i, k] - beta * Q[j, k])  # Q 업데이트\n",
        "\n",
        "        # 손실 함수 계산 (정규화 포함)\n",
        "        eR = np.dot(P, Q.T)\n",
        "        e = 0\n",
        "        for i in range(num_users):\n",
        "            for j in range(num_items):\n",
        "                if R[i, j] > 0:\n",
        "                    e = e + pow(R[i, j] - np.dot(P[i, :], Q[j, :]), 2)\n",
        "                    for k in range(K):\n",
        "                        e = e + (beta / 2) * (pow(P[i, k], 2) + pow(Q[j, k], 2))\n",
        "        if e < 0.001:  # 손실이 충분히 작아지면 종료\n",
        "            break\n",
        "\n",
        "    return P, Q\n",
        "\n",
        "# 예제 사용자-아이템 평점 행렬\n",
        "R = np.array([[5, 3, 0, 1],\n",
        "              [4, 0, 0, 1],\n",
        "              [1, 1, 0, 5],\n",
        "              [1, 0, 0, 4],\n",
        "              [0, 1, 5, 4]])\n",
        "\n",
        "# 행렬 분해 수행\n",
        "K = 2  # 잠재 요인의 수\n",
        "P, Q = matrix_factorization(R, K)\n",
        "nR = np.dot(P, Q.T)  # 예측 평점 행렬\n",
        "\n",
        "print(\"Original Ratings Matrix:\\n\", R)\n",
        "print(\"Predicted Ratings Matrix:\\n\", nR)\n"
      ],
      "metadata": {
        "colab": {
          "base_uri": "https://localhost:8080/"
        },
        "id": "vpD0Ao7hkdRs",
        "outputId": "3194dfad-c8e6-458e-d8d0-5a4fef1b9cf6"
      },
      "execution_count": null,
      "outputs": [
        {
          "output_type": "stream",
          "name": "stdout",
          "text": [
            "Original Ratings Matrix:\n",
            " [[5 3 0 1]\n",
            " [4 0 0 1]\n",
            " [1 1 0 5]\n",
            " [1 0 0 4]\n",
            " [0 1 5 4]]\n",
            "Predicted Ratings Matrix:\n",
            " [[4.97701358 2.98279002 4.65346568 1.00219701]\n",
            " [3.98219724 2.40271514 3.92871145 1.00039193]\n",
            " [1.00407603 0.98930538 5.87312637 4.97135813]\n",
            " [0.99812853 0.90560273 4.8472361  3.98398148]\n",
            " [1.17874051 1.01143474 4.98540801 3.99067915]]\n"
          ]
        }
      ]
    },
    {
      "cell_type": "code",
      "source": [
        "'''\n",
        "실생활 황욜\n",
        "\n",
        "이미지 압축\n",
        "\n",
        "SVD 수행: 행렬을 세 개의 행렬(U, S, Vt)로 분해합니다.\n",
        "데이터 압축: 특이값(S)을 사용하여 데이터의 주요 성분을 유지하면서 차원을 축소합니다.\n",
        "노이즈 제거: 작은 특이값을 제거하여 노이즈를 줄입니다.\n",
        "\n",
        "노이즈의 정의와 원리\n",
        "\n",
        "데이터의 주요 성분과 노이즈:\n",
        "SVD는 행렬을 세 개의 행렬(U, S, Vt)로 분해합니다. 여기서 S는 특이값을 포함하는 대각 행렬입니다.\n",
        "특이값은 데이터의 분산을 설명하는 정도를 나타냅니다. 큰 특이값은 데이터의 주요 구조를 설명하고, 작은 특이값은 상대적으로 중요하지 않은 세부 사항이나 노이즈를 설명합니다.\n",
        "\n",
        "노이즈의 특성:\n",
        "작은 특이값에 해당하는 성분들은 데이터의 미세한 변동이나 잡음을 나타낼 수 있습니다.\n",
        "이러한 성분들은 데이터의 주요 패턴과 구조를 설명하는 데 기여하지 않기 때문에 노이즈로 간주됩니다.\n",
        "\n",
        "노이즈 제거의 목적:\n",
        "노이즈를 제거함으로써 데이터의 주요 성분을 강조하고, 분석의 정확성을 높일 수 있습니다.\n",
        "데이터 압축과 차원 축소를 통해 계산 효율성을 높이고, 모델의 성능을 향상시킬 수 있습니다.\n",
        "'''\n",
        "\n",
        "import numpy as np\n",
        "import matplotlib.pyplot as plt\n",
        "from skimage import data, color\n",
        "from skimage.transform import resize\n",
        "\n",
        "# 이미지 데이터 준비\n",
        "image = color.rgb2gray(data.astronaut())  # 이미지를 흑백으로 변환\n",
        "image_resized = resize(image, (100, 100))  # 이미지를 100x100 크기로 조정\n",
        "\n",
        "# SVD를 사용한 이미지 압축\n",
        "U, S, Vt = np.linalg.svd(image_resized, full_matrices=False)  # SVD 수행\n",
        "\n",
        "# 특이값의 크기 확인\n",
        "print(\"Singular values:\", S)\n",
        "\n",
        "# 상위 50개의 성분을 사용하여 이미지 압축\n",
        "compressed_image = np.dot(U[:, :50], np.dot(np.diag(S[:50]), Vt[:50, :]))  # 상위 50개의 특이값만 사용\n",
        "\n",
        "# 원본 이미지와 압축된 이미지 출력\n",
        "fig, ax = plt.subplots(1, 2, figsize=(10, 5))\n",
        "ax[0].imshow(image_resized, cmap='gray')\n",
        "ax[0].set_title('Original Image')\n",
        "ax[1].imshow(compressed_image, cmap='gray')\n",
        "ax[1].set_title('Compressed Image')\n",
        "plt.show()\n"
      ],
      "metadata": {
        "colab": {
          "base_uri": "https://localhost:8080/",
          "height": 892
        },
        "id": "K1sZ2kyad0EK",
        "outputId": "c165401c-8bc3-415f-c77d-4fc52f4023e2"
      },
      "execution_count": null,
      "outputs": [
        {
          "output_type": "stream",
          "name": "stdout",
          "text": [
            "Singular values: [4.70811303e+01 1.37579655e+01 8.83895014e+00 7.22202047e+00\n",
            " 5.87496453e+00 5.62738231e+00 5.27960685e+00 4.02797125e+00\n",
            " 3.95426829e+00 3.41760968e+00 3.01941836e+00 2.65938165e+00\n",
            " 2.51113214e+00 2.35568359e+00 2.19509314e+00 1.87358413e+00\n",
            " 1.86468478e+00 1.76132449e+00 1.55412456e+00 1.46687008e+00\n",
            " 1.44036604e+00 1.39951556e+00 1.27821366e+00 1.17653854e+00\n",
            " 1.12522393e+00 1.08145446e+00 1.01893118e+00 9.35352074e-01\n",
            " 8.79548072e-01 8.30665841e-01 8.15775958e-01 7.59030909e-01\n",
            " 7.43527909e-01 6.93746302e-01 6.58895716e-01 6.36180607e-01\n",
            " 6.01442667e-01 5.77758904e-01 5.60432897e-01 5.29837814e-01\n",
            " 4.96951944e-01 4.84058858e-01 4.46288887e-01 4.31248120e-01\n",
            " 4.18591423e-01 4.00272740e-01 3.87547941e-01 3.73846894e-01\n",
            " 3.38900866e-01 3.34866656e-01 3.14501775e-01 3.07790114e-01\n",
            " 2.90053775e-01 2.69721355e-01 2.60154473e-01 2.55659514e-01\n",
            " 2.50483019e-01 2.27873624e-01 2.23345416e-01 2.11436376e-01\n",
            " 2.06587176e-01 1.96701287e-01 1.87276040e-01 1.69772538e-01\n",
            " 1.64346016e-01 1.59103093e-01 1.53150404e-01 1.34157068e-01\n",
            " 1.30599095e-01 1.27346112e-01 1.21758924e-01 1.14958029e-01\n",
            " 1.08439379e-01 1.02871523e-01 9.88787862e-02 9.50720843e-02\n",
            " 8.53789418e-02 8.23427304e-02 7.77363732e-02 6.93424518e-02\n",
            " 6.71820361e-02 6.41835176e-02 5.80993470e-02 5.25055405e-02\n",
            " 4.88453158e-02 4.25696229e-02 3.99091314e-02 3.81339375e-02\n",
            " 3.39232663e-02 3.00517576e-02 2.48318611e-02 2.19822465e-02\n",
            " 2.07289373e-02 1.67195896e-02 1.33248185e-02 1.02064790e-02\n",
            " 7.43248083e-03 6.46871813e-03 4.90458996e-03 1.29899757e-03]\n"
          ]
        },
        {
          "output_type": "display_data",
          "data": {
            "text/plain": [
              "<Figure size 1000x500 with 2 Axes>"
            ],
            "image/png": "[encoded data removed]"
          },
          "metadata": {}
        }
      ]
    },
    {
      "cell_type": "code",
      "source": [
        "'''\n",
        "\n",
        "# 신호처리 : 오디오 신호 분석\n",
        "\n",
        "import numpy as np\n",
        "import matplotlib.pyplot as plt\n",
        "from scipy.io import wavfile\n",
        "\n",
        "# 오디오 파일 로드\n",
        "sample_rate, data = wavfile.read('example.wav')\n",
        "\n",
        "# FFT 수행 (선형 변환)\n",
        "fft_spectrum = np.fft.fft(data)\n",
        "frequencies = np.fft.fftfreq(len(fft_spectrum))\n",
        "\n",
        "# 주파수 스펙트럼 시각화\n",
        "plt.plot(frequencies, np.abs(fft_spectrum))\n",
        "plt.xlabel('Frequency (Hz)')\n",
        "plt.ylabel('Amplitude')\n",
        "plt.title('Frequency Spectrum')\n",
        "plt.show()\n",
        "\n",
        "'''\n"
      ],
      "metadata": {
        "colab": {
          "base_uri": "https://localhost:8080/",
          "height": 90
        },
        "id": "Vjg_UcMMd0G0",
        "outputId": "b55b7782-1828-4472-85cb-1927b61893a2"
      },
      "execution_count": null,
      "outputs": [
        {
          "output_type": "execute_result",
          "data": {
            "text/plain": [
              "\"\\n\\n# 신호처리 : 오디오 신호 분석\\n\\nimport numpy as np\\nimport matplotlib.pyplot as plt\\nfrom scipy.io import wavfile\\n\\n# 오디오 파일 로드\\nsample_rate, data = wavfile.read('example.wav')\\n\\n# FFT 수행 (선형 변환)\\nfft_spectrum = np.fft.fft(data)\\nfrequencies = np.fft.fftfreq(len(fft_spectrum))\\n\\n# 주파수 스펙트럼 시각화\\nplt.plot(frequencies, np.abs(fft_spectrum))\\nplt.xlabel('Frequency (Hz)')\\nplt.ylabel('Amplitude')\\nplt.title('Frequency Spectrum')\\nplt.show()\\n\\n\""
            ],
            "application/vnd.google.colaboratory.intrinsic+json": {
              "type": "string"
            }
          },
          "metadata": {},
          "execution_count": 22
        }
      ]
    },
    {
      "cell_type": "code",
      "source": [
        "# 컴퓨터 그래픽스: 3D 변환과 렌더링\n",
        "\n",
        "import numpy as np\n",
        "import matplotlib.pyplot as plt\n",
        "from mpl_toolkits.mplot3d import Axes3D\n",
        "\n",
        "def translate(points, tx, ty, tz):\n",
        "    translation_matrix = np.array([\n",
        "        [1, 0, 0, tx],\n",
        "        [0, 1, 0, ty],\n",
        "        [0, 0, 1, tz],\n",
        "        [0, 0, 0, 1]\n",
        "    ])\n",
        "    return np.dot(points, translation_matrix.T)  # 행렬 곱셈을 통한 변환\n",
        "\n",
        "# 예제 3D 포인트\n",
        "points = np.array([\n",
        "    [1, 1, 1, 1],\n",
        "    [1, -1, 1, 1],\n",
        "    [-1, -1, 1, 1],\n",
        "    [-1, 1, 1, 1],\n",
        "    [1, 1, -1, 1],\n",
        "    [1, -1, -1, 1],\n",
        "    [-1, -1, -1, 1],\n",
        "    [-1, 1, -1, 1]\n",
        "])\n",
        "\n",
        "# 3D 변환 수행\n",
        "translated_points = translate(points, 2, 3, 4)\n",
        "\n",
        "# 시각화\n",
        "fig = plt.figure()\n",
        "ax = fig.add_subplot(111, projection='3d')\n",
        "\n",
        "# 원본 포인트 시각화\n",
        "ax.scatter(points[:, 0], points[:, 1], points[:, 2], c='r', marker='o', label='Original Points')\n",
        "\n",
        "# 변환된 포인트 시각화\n",
        "ax.scatter(translated_points[:, 0], translated_points[:, 1], translated_points[:, 2], c='b', marker='^', label='Translated Points')\n",
        "\n",
        "# 축 레이블 설정\n",
        "ax.set_xlabel('X axis')\n",
        "ax.set_ylabel('Y axis')\n",
        "ax.set_zlabel('Z axis')\n",
        "\n",
        "# 범례 추가\n",
        "ax.legend()\n",
        "\n",
        "# 그래프 제목 설정\n",
        "ax.set_title('3D Translation Visualization')\n",
        "\n",
        "plt.show()\n"
      ],
      "metadata": {
        "colab": {
          "base_uri": "https://localhost:8080/",
          "height": 438
        },
        "id": "T2J2-e3Ld0J7",
        "outputId": "92e50822-5797-466c-dc26-6e2275365e8a"
      },
      "execution_count": null,
      "outputs": [
        {
          "output_type": "display_data",
          "data": {
            "text/plain": [
              "<Figure size 640x480 with 1 Axes>"
            ],
            "image/png": "[encoded data removed]"
          },
          "metadata": {}
        }
      ]
    },
    {
      "cell_type": "code",
      "source": [
        "import matplotlib.pyplot as plt\n",
        "import numpy as np\n",
        "from matplotlib.animation import FuncAnimation\n",
        "\n",
        "# 예제 데이터 생성\n",
        "x = np.linspace(0, 2 * np.pi, 100)\n",
        "y = np.sin(x)\n",
        "\n",
        "# 애니메이션 생성\n",
        "fig, ax = plt.subplots()\n",
        "line, = ax.plot(x, y)\n",
        "\n",
        "def update(frame):\n",
        "    line.set_ydata(np.sin(x + frame / 10.0))  # 선형 보간을 통한 업데이트\n",
        "    return line,\n",
        "\n",
        "ani = FuncAnimation(fig, update, frames=100, blit=True)\n",
        "plt.xlabel('X-axis')\n",
        "plt.ylabel('Y-axis')\n",
        "plt.title('Sine Wave Animation')\n",
        "plt.show()\n"
      ],
      "metadata": {
        "colab": {
          "base_uri": "https://localhost:8080/",
          "height": 472
        },
        "id": "pTe7uxQPd0M-",
        "outputId": "fe6d3694-a62e-4d93-e3b3-5b68af1c658e"
      },
      "execution_count": null,
      "outputs": [
        {
          "output_type": "display_data",
          "data": {
            "text/plain": [
              "<Figure size 640x480 with 1 Axes>"
            ],
            "image/png": "[encoded data removed]"
          },
          "metadata": {}
        }
      ]
    }
  ]
}